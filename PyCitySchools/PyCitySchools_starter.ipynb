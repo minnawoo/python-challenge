{
 "cells": [
  {
   "cell_type": "markdown",
   "metadata": {
    "nbpresent": {
     "id": "5f7fa68e-8932-432f-9ebb-e2a2a60feb27"
    }
   },
   "source": [
    "# PyCity Schools Analysis\n",
    "\n",
    "* As a whole, schools with higher budgets, did not yield better test results. By contrast, schools with higher spending per student actually (`$`645-675) underperformed compared to schools with smaller budgets (`$`585 per student).\n",
    "\n",
    "* As a whole, smaller and medium sized schools dramatically out-performed large sized schools on passing math performances (94% passing vs 70%).\n",
    "\n",
    "* As a whole, charter schools out-performed the public district schools across all metrics. However, more analysis will be required to glean if the effect is due to school practices or the fact that charter schools tend to serve smaller student populations per school.\n",
    "---"
   ]
  },
  {
   "cell_type": "markdown",
   "metadata": {
    "nbpresent": {
     "id": "4f106627-4680-4ebb-a4f3-46986ae0c157"
    }
   },
   "source": [
    "### Note\n",
    "* Instructions have been included for each segment. You do not have to follow them exactly, but they are included to help you think through the steps."
   ]
  },
  {
   "cell_type": "code",
   "execution_count": 3,
   "metadata": {
    "nbpresent": {
     "id": "9ea04e80-eb34-484a-894f-f1b54c20a4ce"
    }
   },
   "outputs": [
    {
     "data": {
      "text/html": [
       "<div>\n",
       "<style scoped>\n",
       "    .dataframe tbody tr th:only-of-type {\n",
       "        vertical-align: middle;\n",
       "    }\n",
       "\n",
       "    .dataframe tbody tr th {\n",
       "        vertical-align: top;\n",
       "    }\n",
       "\n",
       "    .dataframe thead th {\n",
       "        text-align: right;\n",
       "    }\n",
       "</style>\n",
       "<table border=\"1\" class=\"dataframe\">\n",
       "  <thead>\n",
       "    <tr style=\"text-align: right;\">\n",
       "      <th></th>\n",
       "      <th>Student ID</th>\n",
       "      <th>student_name</th>\n",
       "      <th>gender</th>\n",
       "      <th>grade</th>\n",
       "      <th>school_name</th>\n",
       "      <th>reading_score</th>\n",
       "      <th>math_score</th>\n",
       "      <th>School ID</th>\n",
       "      <th>type</th>\n",
       "      <th>size</th>\n",
       "      <th>budget</th>\n",
       "    </tr>\n",
       "  </thead>\n",
       "  <tbody>\n",
       "    <tr>\n",
       "      <th>0</th>\n",
       "      <td>0</td>\n",
       "      <td>Paul Bradley</td>\n",
       "      <td>M</td>\n",
       "      <td>9th</td>\n",
       "      <td>Huang High School</td>\n",
       "      <td>66</td>\n",
       "      <td>79</td>\n",
       "      <td>0</td>\n",
       "      <td>District</td>\n",
       "      <td>2917</td>\n",
       "      <td>1910635</td>\n",
       "    </tr>\n",
       "    <tr>\n",
       "      <th>1</th>\n",
       "      <td>1</td>\n",
       "      <td>Victor Smith</td>\n",
       "      <td>M</td>\n",
       "      <td>12th</td>\n",
       "      <td>Huang High School</td>\n",
       "      <td>94</td>\n",
       "      <td>61</td>\n",
       "      <td>0</td>\n",
       "      <td>District</td>\n",
       "      <td>2917</td>\n",
       "      <td>1910635</td>\n",
       "    </tr>\n",
       "    <tr>\n",
       "      <th>2</th>\n",
       "      <td>2</td>\n",
       "      <td>Kevin Rodriguez</td>\n",
       "      <td>M</td>\n",
       "      <td>12th</td>\n",
       "      <td>Huang High School</td>\n",
       "      <td>90</td>\n",
       "      <td>60</td>\n",
       "      <td>0</td>\n",
       "      <td>District</td>\n",
       "      <td>2917</td>\n",
       "      <td>1910635</td>\n",
       "    </tr>\n",
       "    <tr>\n",
       "      <th>3</th>\n",
       "      <td>3</td>\n",
       "      <td>Dr. Richard Scott</td>\n",
       "      <td>M</td>\n",
       "      <td>12th</td>\n",
       "      <td>Huang High School</td>\n",
       "      <td>67</td>\n",
       "      <td>58</td>\n",
       "      <td>0</td>\n",
       "      <td>District</td>\n",
       "      <td>2917</td>\n",
       "      <td>1910635</td>\n",
       "    </tr>\n",
       "    <tr>\n",
       "      <th>4</th>\n",
       "      <td>4</td>\n",
       "      <td>Bonnie Ray</td>\n",
       "      <td>F</td>\n",
       "      <td>9th</td>\n",
       "      <td>Huang High School</td>\n",
       "      <td>97</td>\n",
       "      <td>84</td>\n",
       "      <td>0</td>\n",
       "      <td>District</td>\n",
       "      <td>2917</td>\n",
       "      <td>1910635</td>\n",
       "    </tr>\n",
       "  </tbody>\n",
       "</table>\n",
       "</div>"
      ],
      "text/plain": [
       "   Student ID       student_name gender grade        school_name  \\\n",
       "0           0       Paul Bradley      M   9th  Huang High School   \n",
       "1           1       Victor Smith      M  12th  Huang High School   \n",
       "2           2    Kevin Rodriguez      M  12th  Huang High School   \n",
       "3           3  Dr. Richard Scott      M  12th  Huang High School   \n",
       "4           4         Bonnie Ray      F   9th  Huang High School   \n",
       "\n",
       "   reading_score  math_score  School ID      type  size   budget  \n",
       "0             66          79          0  District  2917  1910635  \n",
       "1             94          61          0  District  2917  1910635  \n",
       "2             90          60          0  District  2917  1910635  \n",
       "3             67          58          0  District  2917  1910635  \n",
       "4             97          84          0  District  2917  1910635  "
      ]
     },
     "execution_count": 3,
     "metadata": {},
     "output_type": "execute_result"
    }
   ],
   "source": [
    "# Dependencies and Setup\n",
    "import pandas as pd\n",
    "import numpy as np\n",
    "\n",
    "# File to Load (Remember to Change These)\n",
    "school_data_to_load = \"Resources/schools_complete.csv\"\n",
    "student_data_to_load = \"Resources/students_complete.csv\"\n",
    "\n",
    "# Read School and Student Data File and store into Pandas Data Frames\n",
    "school_data = pd.read_csv(school_data_to_load)\n",
    "student_data = pd.read_csv(student_data_to_load)\n",
    "\n",
    "# Combine the data into a single dataset\n",
    "school_data_complete = pd.merge(student_data, school_data, how=\"left\", on=[\"school_name\", \"school_name\"])\n",
    "\n",
    "school_data_complete.head()"
   ]
  },
  {
   "cell_type": "markdown",
   "metadata": {
    "nbpresent": {
     "id": "10cd7714-575e-49b1-93fb-826270681d29"
    }
   },
   "source": [
    "## District Summary\n",
    "\n",
    "* Calculate the total number of schools\n",
    "\n",
    "* Calculate the total number of students\n",
    "\n",
    "* Calculate the total budget\n",
    "\n",
    "* Calculate the average math score \n",
    "\n",
    "* Calculate the average reading score\n",
    "\n",
    "* Calculate the overall passing rate (overall average score), i.e. (avg. math score + avg. reading score)/2\n",
    "\n",
    "* Calculate the percentage of students with a passing math score (70 or greater)\n",
    "\n",
    "* Calculate the percentage of students with a passing reading score (70 or greater)\n",
    "\n",
    "* Create a dataframe to hold the above results\n",
    "\n",
    "* Optional: give the displayed data cleaner formatting"
   ]
  },
  {
   "cell_type": "code",
   "execution_count": 4,
   "metadata": {
    "nbpresent": {
     "id": "f655550d-86ef-4a64-b9ba-4134a42fa47f"
    }
   },
   "outputs": [
    {
     "data": {
      "text/html": [
       "<style  type=\"text/css\" >\n",
       "</style>  \n",
       "<table id=\"T_e24bf52e_dd5e_11e8_904e_88e9fe783736\" > \n",
       "<thead>    <tr> \n",
       "        <th class=\"blank level0\" ></th> \n",
       "        <th class=\"col_heading level0 col0\" >Total Schools</th> \n",
       "        <th class=\"col_heading level0 col1\" >Total Students</th> \n",
       "        <th class=\"col_heading level0 col2\" >Total Budget</th> \n",
       "        <th class=\"col_heading level0 col3\" >Average Math Score</th> \n",
       "        <th class=\"col_heading level0 col4\" >Average Reading Score</th> \n",
       "        <th class=\"col_heading level0 col5\" >% Passing Math</th> \n",
       "        <th class=\"col_heading level0 col6\" >% Passing Reading</th> \n",
       "        <th class=\"col_heading level0 col7\" >% Overall Passing Rate</th> \n",
       "    </tr></thead> \n",
       "<tbody>    <tr> \n",
       "        <th id=\"T_e24bf52e_dd5e_11e8_904e_88e9fe783736level0_row0\" class=\"row_heading level0 row0\" >0</th> \n",
       "        <td id=\"T_e24bf52e_dd5e_11e8_904e_88e9fe783736row0_col0\" class=\"data row0 col0\" >15</td> \n",
       "        <td id=\"T_e24bf52e_dd5e_11e8_904e_88e9fe783736row0_col1\" class=\"data row0 col1\" >39,170</td> \n",
       "        <td id=\"T_e24bf52e_dd5e_11e8_904e_88e9fe783736row0_col2\" class=\"data row0 col2\" >$24,649,428.00</td> \n",
       "        <td id=\"T_e24bf52e_dd5e_11e8_904e_88e9fe783736row0_col3\" class=\"data row0 col3\" >78.985371</td> \n",
       "        <td id=\"T_e24bf52e_dd5e_11e8_904e_88e9fe783736row0_col4\" class=\"data row0 col4\" >81.877840</td> \n",
       "        <td id=\"T_e24bf52e_dd5e_11e8_904e_88e9fe783736row0_col5\" class=\"data row0 col5\" >74.980853</td> \n",
       "        <td id=\"T_e24bf52e_dd5e_11e8_904e_88e9fe783736row0_col6\" class=\"data row0 col6\" >85.805463</td> \n",
       "        <td id=\"T_e24bf52e_dd5e_11e8_904e_88e9fe783736row0_col7\" class=\"data row0 col7\" >80.431606</td> \n",
       "    </tr></tbody> \n",
       "</table> "
      ],
      "text/plain": [
       "<pandas.io.formats.style.Styler at 0x11e0472e8>"
      ]
     },
     "execution_count": 4,
     "metadata": {},
     "output_type": "execute_result"
    }
   ],
   "source": [
    "# Calculate the total number of schools\n",
    "num_schools = len(school_data_complete['school_name'].unique())\n",
    "\n",
    "# Calculate the total number of students\n",
    "num_students = len(school_data_complete['student_name'])\n",
    "\n",
    "# Calculate the total budget (for all schools)\n",
    "unique_schools = school_data_complete['school_name'].unique()\n",
    "school_means = school_data_complete.groupby('school_name').mean()\n",
    "total_budget = school_means['budget'].sum()\n",
    "\n",
    "# Calculate the average math score\n",
    "avg_math_score = school_data_complete['math_score'].mean()\n",
    "\n",
    "# Calculate the average reading score\n",
    "avg_reading_score = school_data_complete['reading_score'].mean()\n",
    "\n",
    "# Calculate the overall passing rate (overall average score), \n",
    "#   i.e. (avg. math score + avg. reading score)/2\n",
    "overall_passing_rate = (avg_math_score + avg_reading_score)/2\n",
    "\n",
    "# Calculate the percentage of students with a passing math score (70 or greater)\n",
    "num_passed_math = len(school_data_complete[school_data_complete['math_score'] >= 70])\n",
    "percent_passed_math = num_passed_math/num_students * 100\n",
    "\n",
    "# Calculate the percentage of students with a passing reading score (70 or greater)\n",
    "num_passed_reading = len(school_data_complete[school_data_complete['reading_score'] >= 70])\n",
    "percent_passed_reading = num_passed_reading/num_students * 100\n",
    "\n",
    "# Create a dataframe to hold the above results\n",
    "district_summary_df = pd.DataFrame({'Total Schools': num_schools,\n",
    "                                    'Total Students': num_students,\n",
    "                                    'Total Budget': total_budget,\n",
    "                                    'Average Math Score': avg_math_score,\n",
    "                                    'Average Reading Score': avg_reading_score,\n",
    "                                    '% Passing Math': percent_passed_math,\n",
    "                                    '% Passing Reading': percent_passed_reading,\n",
    "                                    '% Overall Passing Rate': overall_passing_rate\n",
    "                                   }, index = [0])\n",
    "\n",
    "# Optional: give the displayed data cleaner formatting (to match example output)\n",
    "def format_six_decimal_places():\n",
    "    return lambda x: \"{:.6f}\".format(x)\n",
    "    \n",
    "district_summary_df.style.format({'Total Students': lambda x: \"{:,}\".format(x),\n",
    "                                  'Total Budget': lambda x: \"${:,.2f}\".format(x),\n",
    "                                  'Average Math Score': format_six_decimal_places(),\n",
    "                                  'Average Reading Score': format_six_decimal_places(),\n",
    "                                  '% Passing Math': format_six_decimal_places(),\n",
    "                                  '% Passing Reading': format_six_decimal_places(),\n",
    "                                  '% Overall Passing Rate': format_six_decimal_places()\n",
    "                                 })"
   ]
  },
  {
   "cell_type": "markdown",
   "metadata": {
    "nbpresent": {
     "id": "f3870eb2-904f-45bc-8e6f-449847219ea5"
    }
   },
   "source": [
    "## School Summary"
   ]
  },
  {
   "cell_type": "markdown",
   "metadata": {
    "nbpresent": {
     "id": "c0707bfb-acf1-40ac-879e-df3ab006dcf6"
    }
   },
   "source": [
    "* Create an overview table that summarizes key metrics about each school, including:\n",
    "  * School Name\n",
    "  * School Type\n",
    "  * Total Students\n",
    "  * Total School Budget\n",
    "  * Per Student Budget\n",
    "  * Average Math Score\n",
    "  * Average Reading Score\n",
    "  * % Passing Math\n",
    "  * % Passing Reading\n",
    "  * Overall Passing Rate (Average of the above two)\n",
    "  \n",
    "* Create a dataframe to hold the above results"
   ]
  },
  {
   "cell_type": "code",
   "execution_count": 5,
   "metadata": {
    "nbpresent": {
     "id": "0ecd407f-c9ac-47cf-88c5-82cf2dc42a8e"
    }
   },
   "outputs": [],
   "source": [
    "# Create an overview table that summarizes key metrics about each school:\n",
    "\n",
    "# Create a unique list of the schools\n",
    "school_list = school_data_complete['school_name'].unique()\n",
    "\n",
    "overview_table = []\n",
    "table_columns = ['School Type', 'Total Students', 'Total School Budget', \\\n",
    "                 'Per Student Budget', 'Average Math Score', 'Average Reading Score', \\\n",
    "                 '% Passing Math', '% Passing Reading', '% Overall Passing Rate']\n",
    "\n",
    "# Loop through each school and add key metrics to the overview_table list\n",
    "for i in range(0, num_schools):\n",
    "    \n",
    "    # School Name    \n",
    "    school = school_list[i]\n",
    "    \n",
    "    # Get Subset of Data\n",
    "    subset = school_data_complete[school_data_complete['school_name'] == school]\n",
    "    \n",
    "    # School Type\n",
    "    school_type = subset['type'].iloc[0]\n",
    "    \n",
    "    # Total Students\n",
    "    total_students = subset['student_name'].count()\n",
    "\n",
    "    # Total School Budget\n",
    "    total_school_budget = subset['budget'].iloc[0]\n",
    "\n",
    "    # Per Student Budget\n",
    "    per_student_budget = total_school_budget/total_students\n",
    "    \n",
    "    # Average Math Score\n",
    "    average_math_score = subset['math_score'].mean()\n",
    "    \n",
    "    # Average Reading Score\n",
    "    average_reading_score = subset['reading_score'].mean()\n",
    "    \n",
    "    # % Passing Math\n",
    "    passing_math = len(subset[subset['math_score'] >= 70])/total_students * 100\n",
    "\n",
    "    # % Passing Reading\n",
    "    passing_reading = len(subset[subset['reading_score'] >= 70])/total_students * 100\n",
    "    \n",
    "    # Overall Passing Rate (Average of the above two)\n",
    "    overall_pass_rate = (passing_math + passing_reading) / 2\n",
    "    \n",
    "    \n",
    "    # Append the school to the dataframe (index are the columns)\n",
    "    overview_table.append({'School Type': school_type,\n",
    "                            'Total Students': total_students,\n",
    "                            'Total School Budget': total_school_budget, \n",
    "                            'Per Student Budget': per_student_budget,\n",
    "                            'Average Math Score': average_math_score,\n",
    "                            'Average Reading Score': average_reading_score,\n",
    "                            '% Passing Math': passing_math,\n",
    "                            '% Passing Reading': passing_reading,\n",
    "                            '% Overall Passing Rate': overall_pass_rate})\n",
    "\n",
    "# Create a dataframe to hold the above results\n",
    "overview_df = pd.DataFrame(overview_table, index = school_list, columns = table_columns)"
   ]
  },
  {
   "cell_type": "markdown",
   "metadata": {
    "nbpresent": {
     "id": "efb84615-e13e-40a5-87a6-af25f95ee780"
    }
   },
   "source": [
    "## Top Performing Schools (By Passing Rate)"
   ]
  },
  {
   "cell_type": "markdown",
   "metadata": {
    "nbpresent": {
     "id": "962bb6f7-3264-4d51-b036-8a364c289c82"
    }
   },
   "source": [
    "* Sort and display the top five schools in overall passing rate"
   ]
  },
  {
   "cell_type": "code",
   "execution_count": 6,
   "metadata": {
    "nbpresent": {
     "id": "73d1b2a8-f2f6-47aa-8926-2bb9b928cd72"
    }
   },
   "outputs": [
    {
     "data": {
      "text/html": [
       "<style  type=\"text/css\" >\n",
       "</style>  \n",
       "<table id=\"T_e25f2efa_dd5e_11e8_b1f1_88e9fe783736\" > \n",
       "<thead>    <tr> \n",
       "        <th class=\"blank level0\" ></th> \n",
       "        <th class=\"col_heading level0 col0\" >School Type</th> \n",
       "        <th class=\"col_heading level0 col1\" >Total Students</th> \n",
       "        <th class=\"col_heading level0 col2\" >Total School Budget</th> \n",
       "        <th class=\"col_heading level0 col3\" >Per Student Budget</th> \n",
       "        <th class=\"col_heading level0 col4\" >Average Math Score</th> \n",
       "        <th class=\"col_heading level0 col5\" >Average Reading Score</th> \n",
       "        <th class=\"col_heading level0 col6\" >% Passing Math</th> \n",
       "        <th class=\"col_heading level0 col7\" >% Passing Reading</th> \n",
       "        <th class=\"col_heading level0 col8\" >% Overall Passing Rate</th> \n",
       "    </tr></thead> \n",
       "<tbody>    <tr> \n",
       "        <th id=\"T_e25f2efa_dd5e_11e8_b1f1_88e9fe783736level0_row0\" class=\"row_heading level0 row0\" >Cabrera High School</th> \n",
       "        <td id=\"T_e25f2efa_dd5e_11e8_b1f1_88e9fe783736row0_col0\" class=\"data row0 col0\" >Charter</td> \n",
       "        <td id=\"T_e25f2efa_dd5e_11e8_b1f1_88e9fe783736row0_col1\" class=\"data row0 col1\" >1858</td> \n",
       "        <td id=\"T_e25f2efa_dd5e_11e8_b1f1_88e9fe783736row0_col2\" class=\"data row0 col2\" >$1,081,356.00</td> \n",
       "        <td id=\"T_e25f2efa_dd5e_11e8_b1f1_88e9fe783736row0_col3\" class=\"data row0 col3\" >$582.00</td> \n",
       "        <td id=\"T_e25f2efa_dd5e_11e8_b1f1_88e9fe783736row0_col4\" class=\"data row0 col4\" >83.061895</td> \n",
       "        <td id=\"T_e25f2efa_dd5e_11e8_b1f1_88e9fe783736row0_col5\" class=\"data row0 col5\" >83.975780</td> \n",
       "        <td id=\"T_e25f2efa_dd5e_11e8_b1f1_88e9fe783736row0_col6\" class=\"data row0 col6\" >94.133477</td> \n",
       "        <td id=\"T_e25f2efa_dd5e_11e8_b1f1_88e9fe783736row0_col7\" class=\"data row0 col7\" >97.039828</td> \n",
       "        <td id=\"T_e25f2efa_dd5e_11e8_b1f1_88e9fe783736row0_col8\" class=\"data row0 col8\" >95.586652</td> \n",
       "    </tr>    <tr> \n",
       "        <th id=\"T_e25f2efa_dd5e_11e8_b1f1_88e9fe783736level0_row1\" class=\"row_heading level0 row1\" >Thomas High School</th> \n",
       "        <td id=\"T_e25f2efa_dd5e_11e8_b1f1_88e9fe783736row1_col0\" class=\"data row1 col0\" >Charter</td> \n",
       "        <td id=\"T_e25f2efa_dd5e_11e8_b1f1_88e9fe783736row1_col1\" class=\"data row1 col1\" >1635</td> \n",
       "        <td id=\"T_e25f2efa_dd5e_11e8_b1f1_88e9fe783736row1_col2\" class=\"data row1 col2\" >$1,043,130.00</td> \n",
       "        <td id=\"T_e25f2efa_dd5e_11e8_b1f1_88e9fe783736row1_col3\" class=\"data row1 col3\" >$638.00</td> \n",
       "        <td id=\"T_e25f2efa_dd5e_11e8_b1f1_88e9fe783736row1_col4\" class=\"data row1 col4\" >83.418349</td> \n",
       "        <td id=\"T_e25f2efa_dd5e_11e8_b1f1_88e9fe783736row1_col5\" class=\"data row1 col5\" >83.848930</td> \n",
       "        <td id=\"T_e25f2efa_dd5e_11e8_b1f1_88e9fe783736row1_col6\" class=\"data row1 col6\" >93.272171</td> \n",
       "        <td id=\"T_e25f2efa_dd5e_11e8_b1f1_88e9fe783736row1_col7\" class=\"data row1 col7\" >97.308869</td> \n",
       "        <td id=\"T_e25f2efa_dd5e_11e8_b1f1_88e9fe783736row1_col8\" class=\"data row1 col8\" >95.290520</td> \n",
       "    </tr>    <tr> \n",
       "        <th id=\"T_e25f2efa_dd5e_11e8_b1f1_88e9fe783736level0_row2\" class=\"row_heading level0 row2\" >Pena High School</th> \n",
       "        <td id=\"T_e25f2efa_dd5e_11e8_b1f1_88e9fe783736row2_col0\" class=\"data row2 col0\" >Charter</td> \n",
       "        <td id=\"T_e25f2efa_dd5e_11e8_b1f1_88e9fe783736row2_col1\" class=\"data row2 col1\" >962</td> \n",
       "        <td id=\"T_e25f2efa_dd5e_11e8_b1f1_88e9fe783736row2_col2\" class=\"data row2 col2\" >$585,858.00</td> \n",
       "        <td id=\"T_e25f2efa_dd5e_11e8_b1f1_88e9fe783736row2_col3\" class=\"data row2 col3\" >$609.00</td> \n",
       "        <td id=\"T_e25f2efa_dd5e_11e8_b1f1_88e9fe783736row2_col4\" class=\"data row2 col4\" >83.839917</td> \n",
       "        <td id=\"T_e25f2efa_dd5e_11e8_b1f1_88e9fe783736row2_col5\" class=\"data row2 col5\" >84.044699</td> \n",
       "        <td id=\"T_e25f2efa_dd5e_11e8_b1f1_88e9fe783736row2_col6\" class=\"data row2 col6\" >94.594595</td> \n",
       "        <td id=\"T_e25f2efa_dd5e_11e8_b1f1_88e9fe783736row2_col7\" class=\"data row2 col7\" >95.945946</td> \n",
       "        <td id=\"T_e25f2efa_dd5e_11e8_b1f1_88e9fe783736row2_col8\" class=\"data row2 col8\" >95.270270</td> \n",
       "    </tr>    <tr> \n",
       "        <th id=\"T_e25f2efa_dd5e_11e8_b1f1_88e9fe783736level0_row3\" class=\"row_heading level0 row3\" >Griffin High School</th> \n",
       "        <td id=\"T_e25f2efa_dd5e_11e8_b1f1_88e9fe783736row3_col0\" class=\"data row3 col0\" >Charter</td> \n",
       "        <td id=\"T_e25f2efa_dd5e_11e8_b1f1_88e9fe783736row3_col1\" class=\"data row3 col1\" >1468</td> \n",
       "        <td id=\"T_e25f2efa_dd5e_11e8_b1f1_88e9fe783736row3_col2\" class=\"data row3 col2\" >$917,500.00</td> \n",
       "        <td id=\"T_e25f2efa_dd5e_11e8_b1f1_88e9fe783736row3_col3\" class=\"data row3 col3\" >$625.00</td> \n",
       "        <td id=\"T_e25f2efa_dd5e_11e8_b1f1_88e9fe783736row3_col4\" class=\"data row3 col4\" >83.351499</td> \n",
       "        <td id=\"T_e25f2efa_dd5e_11e8_b1f1_88e9fe783736row3_col5\" class=\"data row3 col5\" >83.816757</td> \n",
       "        <td id=\"T_e25f2efa_dd5e_11e8_b1f1_88e9fe783736row3_col6\" class=\"data row3 col6\" >93.392371</td> \n",
       "        <td id=\"T_e25f2efa_dd5e_11e8_b1f1_88e9fe783736row3_col7\" class=\"data row3 col7\" >97.138965</td> \n",
       "        <td id=\"T_e25f2efa_dd5e_11e8_b1f1_88e9fe783736row3_col8\" class=\"data row3 col8\" >95.265668</td> \n",
       "    </tr>    <tr> \n",
       "        <th id=\"T_e25f2efa_dd5e_11e8_b1f1_88e9fe783736level0_row4\" class=\"row_heading level0 row4\" >Wilson High School</th> \n",
       "        <td id=\"T_e25f2efa_dd5e_11e8_b1f1_88e9fe783736row4_col0\" class=\"data row4 col0\" >Charter</td> \n",
       "        <td id=\"T_e25f2efa_dd5e_11e8_b1f1_88e9fe783736row4_col1\" class=\"data row4 col1\" >2283</td> \n",
       "        <td id=\"T_e25f2efa_dd5e_11e8_b1f1_88e9fe783736row4_col2\" class=\"data row4 col2\" >$1,319,574.00</td> \n",
       "        <td id=\"T_e25f2efa_dd5e_11e8_b1f1_88e9fe783736row4_col3\" class=\"data row4 col3\" >$578.00</td> \n",
       "        <td id=\"T_e25f2efa_dd5e_11e8_b1f1_88e9fe783736row4_col4\" class=\"data row4 col4\" >83.274201</td> \n",
       "        <td id=\"T_e25f2efa_dd5e_11e8_b1f1_88e9fe783736row4_col5\" class=\"data row4 col5\" >83.989488</td> \n",
       "        <td id=\"T_e25f2efa_dd5e_11e8_b1f1_88e9fe783736row4_col6\" class=\"data row4 col6\" >93.867718</td> \n",
       "        <td id=\"T_e25f2efa_dd5e_11e8_b1f1_88e9fe783736row4_col7\" class=\"data row4 col7\" >96.539641</td> \n",
       "        <td id=\"T_e25f2efa_dd5e_11e8_b1f1_88e9fe783736row4_col8\" class=\"data row4 col8\" >95.203679</td> \n",
       "    </tr></tbody> \n",
       "</table> "
      ],
      "text/plain": [
       "<pandas.io.formats.style.Styler at 0x11f8b0fd0>"
      ]
     },
     "execution_count": 6,
     "metadata": {},
     "output_type": "execute_result"
    }
   ],
   "source": [
    "# Sort and display the top five schools in overall passing rate\n",
    "top5_passing_schools = overview_df.sort_values('% Overall Passing Rate', ascending = False)[0:5]\n",
    "formatted_top5_passing_schools = top5_passing_schools.style.format({'Total School Budget': lambda x: \"${:,.2f}\".format(x), \n",
    "                                                                    'Per Student Budget': lambda x: \"${:.2f}\".format(x),\n",
    "                                                                    'Average Math Score': format_six_decimal_places(),\n",
    "                                                                    'Average Reading Score': format_six_decimal_places(),\n",
    "                                                                    '% Passing Math': format_six_decimal_places(),\n",
    "                                                                    '% Passing Reading': format_six_decimal_places(),\n",
    "                                                                    '% Overall Passing Rate': format_six_decimal_places()\n",
    "                                                                  })\n",
    "formatted_top5_passing_schools"
   ]
  },
  {
   "cell_type": "markdown",
   "metadata": {
    "nbpresent": {
     "id": "d79ca1f1-be78-41fc-a249-e26d7396bad8"
    }
   },
   "source": [
    "## Bottom Performing Schools (By Passing Rate)"
   ]
  },
  {
   "cell_type": "markdown",
   "metadata": {
    "nbpresent": {
     "id": "5ca50af5-466e-474d-b989-54390021c487"
    }
   },
   "source": [
    "* Sort and display the five worst-performing schools"
   ]
  },
  {
   "cell_type": "code",
   "execution_count": 7,
   "metadata": {
    "nbpresent": {
     "id": "666fe225-3d7c-4c4d-9425-fbd19b33ddb2"
    }
   },
   "outputs": [
    {
     "data": {
      "text/html": [
       "<style  type=\"text/css\" >\n",
       "</style>  \n",
       "<table id=\"T_e261d68c_dd5e_11e8_ad7b_88e9fe783736\" > \n",
       "<thead>    <tr> \n",
       "        <th class=\"blank level0\" ></th> \n",
       "        <th class=\"col_heading level0 col0\" >School Type</th> \n",
       "        <th class=\"col_heading level0 col1\" >Total Students</th> \n",
       "        <th class=\"col_heading level0 col2\" >Total School Budget</th> \n",
       "        <th class=\"col_heading level0 col3\" >Per Student Budget</th> \n",
       "        <th class=\"col_heading level0 col4\" >Average Math Score</th> \n",
       "        <th class=\"col_heading level0 col5\" >Average Reading Score</th> \n",
       "        <th class=\"col_heading level0 col6\" >% Passing Math</th> \n",
       "        <th class=\"col_heading level0 col7\" >% Passing Reading</th> \n",
       "        <th class=\"col_heading level0 col8\" >% Overall Passing Rate</th> \n",
       "    </tr></thead> \n",
       "<tbody>    <tr> \n",
       "        <th id=\"T_e261d68c_dd5e_11e8_ad7b_88e9fe783736level0_row0\" class=\"row_heading level0 row0\" >Rodriguez High School</th> \n",
       "        <td id=\"T_e261d68c_dd5e_11e8_ad7b_88e9fe783736row0_col0\" class=\"data row0 col0\" >District</td> \n",
       "        <td id=\"T_e261d68c_dd5e_11e8_ad7b_88e9fe783736row0_col1\" class=\"data row0 col1\" >3999</td> \n",
       "        <td id=\"T_e261d68c_dd5e_11e8_ad7b_88e9fe783736row0_col2\" class=\"data row0 col2\" >$2,547,363.00</td> \n",
       "        <td id=\"T_e261d68c_dd5e_11e8_ad7b_88e9fe783736row0_col3\" class=\"data row0 col3\" >$637.00</td> \n",
       "        <td id=\"T_e261d68c_dd5e_11e8_ad7b_88e9fe783736row0_col4\" class=\"data row0 col4\" >76.842711</td> \n",
       "        <td id=\"T_e261d68c_dd5e_11e8_ad7b_88e9fe783736row0_col5\" class=\"data row0 col5\" >80.744686</td> \n",
       "        <td id=\"T_e261d68c_dd5e_11e8_ad7b_88e9fe783736row0_col6\" class=\"data row0 col6\" >66.366592</td> \n",
       "        <td id=\"T_e261d68c_dd5e_11e8_ad7b_88e9fe783736row0_col7\" class=\"data row0 col7\" >80.220055</td> \n",
       "        <td id=\"T_e261d68c_dd5e_11e8_ad7b_88e9fe783736row0_col8\" class=\"data row0 col8\" >73.293323</td> \n",
       "    </tr>    <tr> \n",
       "        <th id=\"T_e261d68c_dd5e_11e8_ad7b_88e9fe783736level0_row1\" class=\"row_heading level0 row1\" >Figueroa High School</th> \n",
       "        <td id=\"T_e261d68c_dd5e_11e8_ad7b_88e9fe783736row1_col0\" class=\"data row1 col0\" >District</td> \n",
       "        <td id=\"T_e261d68c_dd5e_11e8_ad7b_88e9fe783736row1_col1\" class=\"data row1 col1\" >2949</td> \n",
       "        <td id=\"T_e261d68c_dd5e_11e8_ad7b_88e9fe783736row1_col2\" class=\"data row1 col2\" >$1,884,411.00</td> \n",
       "        <td id=\"T_e261d68c_dd5e_11e8_ad7b_88e9fe783736row1_col3\" class=\"data row1 col3\" >$639.00</td> \n",
       "        <td id=\"T_e261d68c_dd5e_11e8_ad7b_88e9fe783736row1_col4\" class=\"data row1 col4\" >76.711767</td> \n",
       "        <td id=\"T_e261d68c_dd5e_11e8_ad7b_88e9fe783736row1_col5\" class=\"data row1 col5\" >81.158020</td> \n",
       "        <td id=\"T_e261d68c_dd5e_11e8_ad7b_88e9fe783736row1_col6\" class=\"data row1 col6\" >65.988471</td> \n",
       "        <td id=\"T_e261d68c_dd5e_11e8_ad7b_88e9fe783736row1_col7\" class=\"data row1 col7\" >80.739234</td> \n",
       "        <td id=\"T_e261d68c_dd5e_11e8_ad7b_88e9fe783736row1_col8\" class=\"data row1 col8\" >73.363852</td> \n",
       "    </tr>    <tr> \n",
       "        <th id=\"T_e261d68c_dd5e_11e8_ad7b_88e9fe783736level0_row2\" class=\"row_heading level0 row2\" >Huang High School</th> \n",
       "        <td id=\"T_e261d68c_dd5e_11e8_ad7b_88e9fe783736row2_col0\" class=\"data row2 col0\" >District</td> \n",
       "        <td id=\"T_e261d68c_dd5e_11e8_ad7b_88e9fe783736row2_col1\" class=\"data row2 col1\" >2917</td> \n",
       "        <td id=\"T_e261d68c_dd5e_11e8_ad7b_88e9fe783736row2_col2\" class=\"data row2 col2\" >$1,910,635.00</td> \n",
       "        <td id=\"T_e261d68c_dd5e_11e8_ad7b_88e9fe783736row2_col3\" class=\"data row2 col3\" >$655.00</td> \n",
       "        <td id=\"T_e261d68c_dd5e_11e8_ad7b_88e9fe783736row2_col4\" class=\"data row2 col4\" >76.629414</td> \n",
       "        <td id=\"T_e261d68c_dd5e_11e8_ad7b_88e9fe783736row2_col5\" class=\"data row2 col5\" >81.182722</td> \n",
       "        <td id=\"T_e261d68c_dd5e_11e8_ad7b_88e9fe783736row2_col6\" class=\"data row2 col6\" >65.683922</td> \n",
       "        <td id=\"T_e261d68c_dd5e_11e8_ad7b_88e9fe783736row2_col7\" class=\"data row2 col7\" >81.316421</td> \n",
       "        <td id=\"T_e261d68c_dd5e_11e8_ad7b_88e9fe783736row2_col8\" class=\"data row2 col8\" >73.500171</td> \n",
       "    </tr>    <tr> \n",
       "        <th id=\"T_e261d68c_dd5e_11e8_ad7b_88e9fe783736level0_row3\" class=\"row_heading level0 row3\" >Johnson High School</th> \n",
       "        <td id=\"T_e261d68c_dd5e_11e8_ad7b_88e9fe783736row3_col0\" class=\"data row3 col0\" >District</td> \n",
       "        <td id=\"T_e261d68c_dd5e_11e8_ad7b_88e9fe783736row3_col1\" class=\"data row3 col1\" >4761</td> \n",
       "        <td id=\"T_e261d68c_dd5e_11e8_ad7b_88e9fe783736row3_col2\" class=\"data row3 col2\" >$3,094,650.00</td> \n",
       "        <td id=\"T_e261d68c_dd5e_11e8_ad7b_88e9fe783736row3_col3\" class=\"data row3 col3\" >$650.00</td> \n",
       "        <td id=\"T_e261d68c_dd5e_11e8_ad7b_88e9fe783736row3_col4\" class=\"data row3 col4\" >77.072464</td> \n",
       "        <td id=\"T_e261d68c_dd5e_11e8_ad7b_88e9fe783736row3_col5\" class=\"data row3 col5\" >80.966394</td> \n",
       "        <td id=\"T_e261d68c_dd5e_11e8_ad7b_88e9fe783736row3_col6\" class=\"data row3 col6\" >66.057551</td> \n",
       "        <td id=\"T_e261d68c_dd5e_11e8_ad7b_88e9fe783736row3_col7\" class=\"data row3 col7\" >81.222432</td> \n",
       "        <td id=\"T_e261d68c_dd5e_11e8_ad7b_88e9fe783736row3_col8\" class=\"data row3 col8\" >73.639992</td> \n",
       "    </tr>    <tr> \n",
       "        <th id=\"T_e261d68c_dd5e_11e8_ad7b_88e9fe783736level0_row4\" class=\"row_heading level0 row4\" >Ford High School</th> \n",
       "        <td id=\"T_e261d68c_dd5e_11e8_ad7b_88e9fe783736row4_col0\" class=\"data row4 col0\" >District</td> \n",
       "        <td id=\"T_e261d68c_dd5e_11e8_ad7b_88e9fe783736row4_col1\" class=\"data row4 col1\" >2739</td> \n",
       "        <td id=\"T_e261d68c_dd5e_11e8_ad7b_88e9fe783736row4_col2\" class=\"data row4 col2\" >$1,763,916.00</td> \n",
       "        <td id=\"T_e261d68c_dd5e_11e8_ad7b_88e9fe783736row4_col3\" class=\"data row4 col3\" >$644.00</td> \n",
       "        <td id=\"T_e261d68c_dd5e_11e8_ad7b_88e9fe783736row4_col4\" class=\"data row4 col4\" >77.102592</td> \n",
       "        <td id=\"T_e261d68c_dd5e_11e8_ad7b_88e9fe783736row4_col5\" class=\"data row4 col5\" >80.746258</td> \n",
       "        <td id=\"T_e261d68c_dd5e_11e8_ad7b_88e9fe783736row4_col6\" class=\"data row4 col6\" >68.309602</td> \n",
       "        <td id=\"T_e261d68c_dd5e_11e8_ad7b_88e9fe783736row4_col7\" class=\"data row4 col7\" >79.299014</td> \n",
       "        <td id=\"T_e261d68c_dd5e_11e8_ad7b_88e9fe783736row4_col8\" class=\"data row4 col8\" >73.804308</td> \n",
       "    </tr></tbody> \n",
       "</table> "
      ],
      "text/plain": [
       "<pandas.io.formats.style.Styler at 0x11f8b0be0>"
      ]
     },
     "execution_count": 7,
     "metadata": {},
     "output_type": "execute_result"
    }
   ],
   "source": [
    "# Sort and display the worst five schools in overall passing rate\n",
    "bottom5_passing_schools = overview_df.sort_values('% Overall Passing Rate')[0:5]\n",
    "formatted_bottom5_passing_schools = bottom5_passing_schools.style.format({'Total School Budget': lambda x: \"${:,.2f}\".format(x), \n",
    "                                                                          'Per Student Budget': lambda x: \"${:.2f}\".format(x),\n",
    "                                                                          'Average Math Score': format_six_decimal_places(),\n",
    "                                                                          'Average Reading Score': format_six_decimal_places(),\n",
    "                                                                          '% Passing Math': format_six_decimal_places(),\n",
    "                                                                          '% Passing Reading': format_six_decimal_places(),\n",
    "                                                                          '% Overall Passing Rate': format_six_decimal_places()\n",
    "                                                                         })\n",
    "formatted_bottom5_passing_schools"
   ]
  },
  {
   "cell_type": "markdown",
   "metadata": {
    "collapsed": true,
    "nbpresent": {
     "id": "afa5f070-878e-4d74-9380-c4526abc4b2e"
    }
   },
   "source": [
    "## Math Scores by Grade"
   ]
  },
  {
   "cell_type": "markdown",
   "metadata": {
    "nbpresent": {
     "id": "a590a293-976e-40bb-abd7-3af1367494c1"
    }
   },
   "source": [
    "* Create a table that lists the average Math Score for students of each grade level (9th, 10th, 11th, 12th) at each school.\n",
    "\n",
    "  * Create a pandas series for each grade. Hint: use a conditional statement.\n",
    "  \n",
    "  * Group each series by school\n",
    "  \n",
    "  * Combine the series into a dataframe\n",
    "  \n",
    "  * Optional: give the displayed data cleaner formatting"
   ]
  },
  {
   "cell_type": "code",
   "execution_count": 8,
   "metadata": {
    "nbpresent": {
     "id": "848276ef-6816-49d0-b0cf-43d288fb8f3e"
    }
   },
   "outputs": [
    {
     "data": {
      "text/html": [
       "<div>\n",
       "<style scoped>\n",
       "    .dataframe tbody tr th:only-of-type {\n",
       "        vertical-align: middle;\n",
       "    }\n",
       "\n",
       "    .dataframe tbody tr th {\n",
       "        vertical-align: top;\n",
       "    }\n",
       "\n",
       "    .dataframe thead th {\n",
       "        text-align: right;\n",
       "    }\n",
       "</style>\n",
       "<table border=\"1\" class=\"dataframe\">\n",
       "  <thead>\n",
       "    <tr style=\"text-align: right;\">\n",
       "      <th></th>\n",
       "      <th>9th</th>\n",
       "      <th>10th</th>\n",
       "      <th>11th</th>\n",
       "      <th>12th</th>\n",
       "    </tr>\n",
       "  </thead>\n",
       "  <tbody>\n",
       "    <tr>\n",
       "      <th>Bailey High School</th>\n",
       "      <td>77.083676</td>\n",
       "      <td>76.996772</td>\n",
       "      <td>77.515588</td>\n",
       "      <td>76.492218</td>\n",
       "    </tr>\n",
       "    <tr>\n",
       "      <th>Cabrera High School</th>\n",
       "      <td>83.094697</td>\n",
       "      <td>83.154506</td>\n",
       "      <td>82.765560</td>\n",
       "      <td>83.277487</td>\n",
       "    </tr>\n",
       "    <tr>\n",
       "      <th>Figueroa High School</th>\n",
       "      <td>76.403037</td>\n",
       "      <td>76.539974</td>\n",
       "      <td>76.884344</td>\n",
       "      <td>77.151369</td>\n",
       "    </tr>\n",
       "    <tr>\n",
       "      <th>Ford High School</th>\n",
       "      <td>77.361345</td>\n",
       "      <td>77.672316</td>\n",
       "      <td>76.918058</td>\n",
       "      <td>76.179963</td>\n",
       "    </tr>\n",
       "    <tr>\n",
       "      <th>Griffin High School</th>\n",
       "      <td>82.044010</td>\n",
       "      <td>84.229064</td>\n",
       "      <td>83.842105</td>\n",
       "      <td>83.356164</td>\n",
       "    </tr>\n",
       "    <tr>\n",
       "      <th>Hernandez High School</th>\n",
       "      <td>77.438495</td>\n",
       "      <td>77.337408</td>\n",
       "      <td>77.136029</td>\n",
       "      <td>77.186567</td>\n",
       "    </tr>\n",
       "    <tr>\n",
       "      <th>Holden High School</th>\n",
       "      <td>83.787402</td>\n",
       "      <td>83.429825</td>\n",
       "      <td>85.000000</td>\n",
       "      <td>82.855422</td>\n",
       "    </tr>\n",
       "    <tr>\n",
       "      <th>Huang High School</th>\n",
       "      <td>77.027251</td>\n",
       "      <td>75.908735</td>\n",
       "      <td>76.446602</td>\n",
       "      <td>77.225641</td>\n",
       "    </tr>\n",
       "    <tr>\n",
       "      <th>Johnson High School</th>\n",
       "      <td>77.187857</td>\n",
       "      <td>76.691117</td>\n",
       "      <td>77.491653</td>\n",
       "      <td>76.863248</td>\n",
       "    </tr>\n",
       "    <tr>\n",
       "      <th>Pena High School</th>\n",
       "      <td>83.625455</td>\n",
       "      <td>83.372000</td>\n",
       "      <td>84.328125</td>\n",
       "      <td>84.121547</td>\n",
       "    </tr>\n",
       "    <tr>\n",
       "      <th>Rodriguez High School</th>\n",
       "      <td>76.859966</td>\n",
       "      <td>76.612500</td>\n",
       "      <td>76.395626</td>\n",
       "      <td>77.690748</td>\n",
       "    </tr>\n",
       "    <tr>\n",
       "      <th>Shelton High School</th>\n",
       "      <td>83.420755</td>\n",
       "      <td>82.917411</td>\n",
       "      <td>83.383495</td>\n",
       "      <td>83.778976</td>\n",
       "    </tr>\n",
       "    <tr>\n",
       "      <th>Thomas High School</th>\n",
       "      <td>83.590022</td>\n",
       "      <td>83.087886</td>\n",
       "      <td>83.498795</td>\n",
       "      <td>83.497041</td>\n",
       "    </tr>\n",
       "    <tr>\n",
       "      <th>Wilson High School</th>\n",
       "      <td>83.085578</td>\n",
       "      <td>83.724422</td>\n",
       "      <td>83.195326</td>\n",
       "      <td>83.035794</td>\n",
       "    </tr>\n",
       "    <tr>\n",
       "      <th>Wright High School</th>\n",
       "      <td>83.264706</td>\n",
       "      <td>84.010288</td>\n",
       "      <td>83.836782</td>\n",
       "      <td>83.644986</td>\n",
       "    </tr>\n",
       "  </tbody>\n",
       "</table>\n",
       "</div>"
      ],
      "text/plain": [
       "                             9th       10th       11th       12th\n",
       "Bailey High School     77.083676  76.996772  77.515588  76.492218\n",
       "Cabrera High School    83.094697  83.154506  82.765560  83.277487\n",
       "Figueroa High School   76.403037  76.539974  76.884344  77.151369\n",
       "Ford High School       77.361345  77.672316  76.918058  76.179963\n",
       "Griffin High School    82.044010  84.229064  83.842105  83.356164\n",
       "Hernandez High School  77.438495  77.337408  77.136029  77.186567\n",
       "Holden High School     83.787402  83.429825  85.000000  82.855422\n",
       "Huang High School      77.027251  75.908735  76.446602  77.225641\n",
       "Johnson High School    77.187857  76.691117  77.491653  76.863248\n",
       "Pena High School       83.625455  83.372000  84.328125  84.121547\n",
       "Rodriguez High School  76.859966  76.612500  76.395626  77.690748\n",
       "Shelton High School    83.420755  82.917411  83.383495  83.778976\n",
       "Thomas High School     83.590022  83.087886  83.498795  83.497041\n",
       "Wilson High School     83.085578  83.724422  83.195326  83.035794\n",
       "Wright High School     83.264706  84.010288  83.836782  83.644986"
      ]
     },
     "execution_count": 8,
     "metadata": {},
     "output_type": "execute_result"
    }
   ],
   "source": [
    "# Create a table that lists the average Math Score for students of each grade level (9th, 10th, 11th, 12th) at each school.\n",
    "math_scores_by_grade_df = pd.DataFrame()\n",
    "\n",
    "# Create list of unique grades\n",
    "grades_list = school_data_complete['grade'].unique()\n",
    "\n",
    "# Set index to school name\n",
    "school_index_df = school_data_complete.set_index('school_name')\n",
    "\n",
    "for i in range(0, len(grades_list)):\n",
    "    \n",
    "    # Set grade\n",
    "    grade = grades_list[i]\n",
    "    \n",
    "    # Create a pandas series for each grade. Hint: use a conditional statement.\n",
    "    reading_scores = pd.Series(school_index_df[school_index_df['grade'] == grade]['math_score'])\n",
    "    \n",
    "    # Group each series by school\n",
    "    grouped_series = reading_scores.groupby(reading_scores.index).mean()\n",
    "    \n",
    "    # Combine the series into a dataframe\n",
    "    math_scores_by_grade_df = pd.concat([math_scores_by_grade_df, grouped_series.rename(grade)], axis=1, sort=False)\n",
    "\n",
    "# Format to look like example output\n",
    "del math_scores_by_grade_df.index.name\n",
    "math_scores_by_grade_df = math_scores_by_grade_df[['9th', '10th', '11th', '12th']]\n",
    "math_scores_by_grade_df"
   ]
  },
  {
   "cell_type": "markdown",
   "metadata": {
    "nbpresent": {
     "id": "98286549-0050-4064-9c3b-bef1481d8f5c"
    }
   },
   "source": [
    "## Reading Score by Grade "
   ]
  },
  {
   "cell_type": "markdown",
   "metadata": {
    "nbpresent": {
     "id": "d83aa849-3021-480a-b4e1-92afbd4c1aa4"
    }
   },
   "source": [
    "* Perform the same operations as above for reading scores"
   ]
  },
  {
   "cell_type": "code",
   "execution_count": 9,
   "metadata": {
    "nbpresent": {
     "id": "875cabb6-7ba1-4279-9e1a-fd88629e88af"
    }
   },
   "outputs": [
    {
     "data": {
      "text/html": [
       "<div>\n",
       "<style scoped>\n",
       "    .dataframe tbody tr th:only-of-type {\n",
       "        vertical-align: middle;\n",
       "    }\n",
       "\n",
       "    .dataframe tbody tr th {\n",
       "        vertical-align: top;\n",
       "    }\n",
       "\n",
       "    .dataframe thead th {\n",
       "        text-align: right;\n",
       "    }\n",
       "</style>\n",
       "<table border=\"1\" class=\"dataframe\">\n",
       "  <thead>\n",
       "    <tr style=\"text-align: right;\">\n",
       "      <th></th>\n",
       "      <th>9th</th>\n",
       "      <th>10th</th>\n",
       "      <th>11th</th>\n",
       "      <th>12th</th>\n",
       "    </tr>\n",
       "  </thead>\n",
       "  <tbody>\n",
       "    <tr>\n",
       "      <th>Bailey High School</th>\n",
       "      <td>81.303155</td>\n",
       "      <td>80.907183</td>\n",
       "      <td>80.945643</td>\n",
       "      <td>80.912451</td>\n",
       "    </tr>\n",
       "    <tr>\n",
       "      <th>Cabrera High School</th>\n",
       "      <td>83.676136</td>\n",
       "      <td>84.253219</td>\n",
       "      <td>83.788382</td>\n",
       "      <td>84.287958</td>\n",
       "    </tr>\n",
       "    <tr>\n",
       "      <th>Figueroa High School</th>\n",
       "      <td>81.198598</td>\n",
       "      <td>81.408912</td>\n",
       "      <td>80.640339</td>\n",
       "      <td>81.384863</td>\n",
       "    </tr>\n",
       "    <tr>\n",
       "      <th>Ford High School</th>\n",
       "      <td>80.632653</td>\n",
       "      <td>81.262712</td>\n",
       "      <td>80.403642</td>\n",
       "      <td>80.662338</td>\n",
       "    </tr>\n",
       "    <tr>\n",
       "      <th>Griffin High School</th>\n",
       "      <td>83.369193</td>\n",
       "      <td>83.706897</td>\n",
       "      <td>84.288089</td>\n",
       "      <td>84.013699</td>\n",
       "    </tr>\n",
       "    <tr>\n",
       "      <th>Hernandez High School</th>\n",
       "      <td>80.866860</td>\n",
       "      <td>80.660147</td>\n",
       "      <td>81.396140</td>\n",
       "      <td>80.857143</td>\n",
       "    </tr>\n",
       "    <tr>\n",
       "      <th>Holden High School</th>\n",
       "      <td>83.677165</td>\n",
       "      <td>83.324561</td>\n",
       "      <td>83.815534</td>\n",
       "      <td>84.698795</td>\n",
       "    </tr>\n",
       "    <tr>\n",
       "      <th>Huang High School</th>\n",
       "      <td>81.290284</td>\n",
       "      <td>81.512386</td>\n",
       "      <td>81.417476</td>\n",
       "      <td>80.305983</td>\n",
       "    </tr>\n",
       "    <tr>\n",
       "      <th>Johnson High School</th>\n",
       "      <td>81.260714</td>\n",
       "      <td>80.773431</td>\n",
       "      <td>80.616027</td>\n",
       "      <td>81.227564</td>\n",
       "    </tr>\n",
       "    <tr>\n",
       "      <th>Pena High School</th>\n",
       "      <td>83.807273</td>\n",
       "      <td>83.612000</td>\n",
       "      <td>84.335938</td>\n",
       "      <td>84.591160</td>\n",
       "    </tr>\n",
       "    <tr>\n",
       "      <th>Rodriguez High School</th>\n",
       "      <td>80.993127</td>\n",
       "      <td>80.629808</td>\n",
       "      <td>80.864811</td>\n",
       "      <td>80.376426</td>\n",
       "    </tr>\n",
       "    <tr>\n",
       "      <th>Shelton High School</th>\n",
       "      <td>84.122642</td>\n",
       "      <td>83.441964</td>\n",
       "      <td>84.373786</td>\n",
       "      <td>82.781671</td>\n",
       "    </tr>\n",
       "    <tr>\n",
       "      <th>Thomas High School</th>\n",
       "      <td>83.728850</td>\n",
       "      <td>84.254157</td>\n",
       "      <td>83.585542</td>\n",
       "      <td>83.831361</td>\n",
       "    </tr>\n",
       "    <tr>\n",
       "      <th>Wilson High School</th>\n",
       "      <td>83.939778</td>\n",
       "      <td>84.021452</td>\n",
       "      <td>83.764608</td>\n",
       "      <td>84.317673</td>\n",
       "    </tr>\n",
       "    <tr>\n",
       "      <th>Wright High School</th>\n",
       "      <td>83.833333</td>\n",
       "      <td>83.812757</td>\n",
       "      <td>84.156322</td>\n",
       "      <td>84.073171</td>\n",
       "    </tr>\n",
       "  </tbody>\n",
       "</table>\n",
       "</div>"
      ],
      "text/plain": [
       "                             9th       10th       11th       12th\n",
       "Bailey High School     81.303155  80.907183  80.945643  80.912451\n",
       "Cabrera High School    83.676136  84.253219  83.788382  84.287958\n",
       "Figueroa High School   81.198598  81.408912  80.640339  81.384863\n",
       "Ford High School       80.632653  81.262712  80.403642  80.662338\n",
       "Griffin High School    83.369193  83.706897  84.288089  84.013699\n",
       "Hernandez High School  80.866860  80.660147  81.396140  80.857143\n",
       "Holden High School     83.677165  83.324561  83.815534  84.698795\n",
       "Huang High School      81.290284  81.512386  81.417476  80.305983\n",
       "Johnson High School    81.260714  80.773431  80.616027  81.227564\n",
       "Pena High School       83.807273  83.612000  84.335938  84.591160\n",
       "Rodriguez High School  80.993127  80.629808  80.864811  80.376426\n",
       "Shelton High School    84.122642  83.441964  84.373786  82.781671\n",
       "Thomas High School     83.728850  84.254157  83.585542  83.831361\n",
       "Wilson High School     83.939778  84.021452  83.764608  84.317673\n",
       "Wright High School     83.833333  83.812757  84.156322  84.073171"
      ]
     },
     "execution_count": 9,
     "metadata": {},
     "output_type": "execute_result"
    }
   ],
   "source": [
    "# Create a table that lists the average Reading Score for students of each grade level (9th, 10th, 11th, 12th) at each school.\n",
    "reading_scores_by_grade_df = pd.DataFrame()\n",
    "\n",
    "# Create list of unique grades\n",
    "grades_list = school_data_complete['grade'].unique()\n",
    "\n",
    "# Set index to school name\n",
    "school_index_df = school_data_complete.set_index('school_name')\n",
    "\n",
    "for i in range(0, len(grades_list)):\n",
    "    \n",
    "    # Set grade\n",
    "    grade = grades_list[i]\n",
    "\n",
    "    # Create a pandas series for each grade. Hint: use a conditional statement.\n",
    "    reading_scores = school_index_df[school_index_df['grade'] == grade]['reading_score']\n",
    "    \n",
    "    # Group each series by school\n",
    "    grouped_series = reading_scores.groupby(reading_scores.index).mean()\n",
    "    \n",
    "    # Combine the series into a dataframe\n",
    "    reading_scores_by_grade_df = pd.concat([reading_scores_by_grade_df, grouped_series.rename(grade)], axis=1, sort=False)\n",
    "\n",
    "# Format to look like example output\n",
    "del reading_scores_by_grade_df.index.name\n",
    "reading_scores_by_grade_df = reading_scores_by_grade_df[['9th', '10th', '11th', '12th']]\n",
    "reading_scores_by_grade_df"
   ]
  },
  {
   "cell_type": "markdown",
   "metadata": {
    "nbpresent": {
     "id": "03fce153-0153-4981-835d-e647542d2646"
    }
   },
   "source": [
    "## Scores by School Spending"
   ]
  },
  {
   "cell_type": "markdown",
   "metadata": {
    "nbpresent": {
     "id": "dbff9598-8d93-473d-90f8-b701841960e7"
    }
   },
   "source": [
    "* Create a table that breaks down school performances based on average Spending Ranges (Per Student). Use 4 reasonable bins to group school spending. Include in the table each of the following:\n",
    "  * Average Math Score\n",
    "  * Average Reading Score\n",
    "  * % Passing Math\n",
    "  * % Passing Reading\n",
    "  * Overall Passing Rate (Average of the above two)"
   ]
  },
  {
   "cell_type": "code",
   "execution_count": 10,
   "metadata": {
    "nbpresent": {
     "id": "db077ef9-fdf8-45cb-8491-6c2d1717f453"
    }
   },
   "outputs": [],
   "source": [
    "# Sample bins. Feel free to create your own bins.\n",
    "spending_bins = [0, 585, 615, 645, 675]\n",
    "group_names = [\"<$585\", \"$585-615\", \"$615-645\", \"$645-675\"]"
   ]
  },
  {
   "cell_type": "code",
   "execution_count": 11,
   "metadata": {
    "nbpresent": {
     "id": "62e579ae-32f7-4f81-b427-e98843cd91c3"
    },
    "scrolled": true
   },
   "outputs": [
    {
     "data": {
      "text/html": [
       "<div>\n",
       "<style scoped>\n",
       "    .dataframe tbody tr th:only-of-type {\n",
       "        vertical-align: middle;\n",
       "    }\n",
       "\n",
       "    .dataframe tbody tr th {\n",
       "        vertical-align: top;\n",
       "    }\n",
       "\n",
       "    .dataframe thead th {\n",
       "        text-align: right;\n",
       "    }\n",
       "</style>\n",
       "<table border=\"1\" class=\"dataframe\">\n",
       "  <thead>\n",
       "    <tr style=\"text-align: right;\">\n",
       "      <th></th>\n",
       "      <th>Average Math Score</th>\n",
       "      <th>Average Reading Score</th>\n",
       "      <th>% Passing Math</th>\n",
       "      <th>% Passing Reading</th>\n",
       "      <th>% Overall Passing Rate</th>\n",
       "    </tr>\n",
       "    <tr>\n",
       "      <th>Spending Ranges (Per Student)</th>\n",
       "      <th></th>\n",
       "      <th></th>\n",
       "      <th></th>\n",
       "      <th></th>\n",
       "      <th></th>\n",
       "    </tr>\n",
       "  </thead>\n",
       "  <tbody>\n",
       "    <tr>\n",
       "      <th>&lt;$585</th>\n",
       "      <td>83.455399</td>\n",
       "      <td>83.933814</td>\n",
       "      <td>93.460096</td>\n",
       "      <td>96.610877</td>\n",
       "      <td>95.035486</td>\n",
       "    </tr>\n",
       "    <tr>\n",
       "      <th>$585-615</th>\n",
       "      <td>83.599686</td>\n",
       "      <td>83.885211</td>\n",
       "      <td>94.230858</td>\n",
       "      <td>95.900287</td>\n",
       "      <td>95.065572</td>\n",
       "    </tr>\n",
       "    <tr>\n",
       "      <th>$615-645</th>\n",
       "      <td>79.079225</td>\n",
       "      <td>81.891436</td>\n",
       "      <td>75.668212</td>\n",
       "      <td>86.106569</td>\n",
       "      <td>80.887391</td>\n",
       "    </tr>\n",
       "    <tr>\n",
       "      <th>$645-675</th>\n",
       "      <td>76.997210</td>\n",
       "      <td>81.027843</td>\n",
       "      <td>66.164813</td>\n",
       "      <td>81.133951</td>\n",
       "      <td>73.649382</td>\n",
       "    </tr>\n",
       "  </tbody>\n",
       "</table>\n",
       "</div>"
      ],
      "text/plain": [
       "                               Average Math Score  Average Reading Score  \\\n",
       "Spending Ranges (Per Student)                                              \n",
       "<$585                                   83.455399              83.933814   \n",
       "$585-615                                83.599686              83.885211   \n",
       "$615-645                                79.079225              81.891436   \n",
       "$645-675                                76.997210              81.027843   \n",
       "\n",
       "                               % Passing Math  % Passing Reading  \\\n",
       "Spending Ranges (Per Student)                                      \n",
       "<$585                               93.460096          96.610877   \n",
       "$585-615                            94.230858          95.900287   \n",
       "$615-645                            75.668212          86.106569   \n",
       "$645-675                            66.164813          81.133951   \n",
       "\n",
       "                               % Overall Passing Rate  \n",
       "Spending Ranges (Per Student)                          \n",
       "<$585                                       95.035486  \n",
       "$585-615                                    95.065572  \n",
       "$615-645                                    80.887391  \n",
       "$645-675                                    73.649382  "
      ]
     },
     "execution_count": 11,
     "metadata": {},
     "output_type": "execute_result"
    }
   ],
   "source": [
    "# Copy relevant columns from overview_df\n",
    "scores_by_spending = overview_df.drop(columns= ['School Type', 'Total Students', 'Total School Budget'])\n",
    "\n",
    "# Bin the spending\n",
    "scores_by_spending['Spending Ranges'] = pd.cut(scores_by_spending['Per Student Budget'], bins=spending_bins, labels=group_names)\n",
    "\n",
    "# Drop the 'Per Student Budget' column\n",
    "binned_scores_by_spending = scores_by_spending.drop(columns = ['Per Student Budget'])\n",
    "\n",
    "# Groupby Bins column\n",
    "binned_scores_by_spending = binned_scores_by_spending.groupby('Spending Ranges').mean()\n",
    "\n",
    "# Rename index name\n",
    "binned_scores_by_spending.index.names = ['Spending Ranges (Per Student)']\n",
    "binned_scores_by_spending"
   ]
  },
  {
   "cell_type": "markdown",
   "metadata": {
    "nbpresent": {
     "id": "174fb95d-cc43-4d6b-81d7-79b1d20e15eb"
    }
   },
   "source": [
    "## Scores by School Size"
   ]
  },
  {
   "cell_type": "markdown",
   "metadata": {
    "nbpresent": {
     "id": "5b438327-24c6-490a-b2a0-b8a93faaf4a7"
    }
   },
   "source": [
    "* Perform the same operations as above, based on school size."
   ]
  },
  {
   "cell_type": "code",
   "execution_count": 12,
   "metadata": {
    "nbpresent": {
     "id": "c3d5cebe-8ea4-493b-bd3b-4d24601cc339"
    }
   },
   "outputs": [],
   "source": [
    "# Sample bins. Feel free to create your own bins.\n",
    "size_bins = [0, 1000, 2000, 5000]\n",
    "group_names = [\"Small (<1000)\", \"Medium (1000-2000)\", \"Large (2000-5000)\"]"
   ]
  },
  {
   "cell_type": "code",
   "execution_count": 13,
   "metadata": {
    "nbpresent": {
     "id": "511d0c95-e4f2-47da-ad24-69405102cd0c"
    },
    "scrolled": true
   },
   "outputs": [
    {
     "data": {
      "text/html": [
       "<div>\n",
       "<style scoped>\n",
       "    .dataframe tbody tr th:only-of-type {\n",
       "        vertical-align: middle;\n",
       "    }\n",
       "\n",
       "    .dataframe tbody tr th {\n",
       "        vertical-align: top;\n",
       "    }\n",
       "\n",
       "    .dataframe thead th {\n",
       "        text-align: right;\n",
       "    }\n",
       "</style>\n",
       "<table border=\"1\" class=\"dataframe\">\n",
       "  <thead>\n",
       "    <tr style=\"text-align: right;\">\n",
       "      <th></th>\n",
       "      <th>School Type</th>\n",
       "      <th>Total Students</th>\n",
       "      <th>Total School Budget</th>\n",
       "      <th>Per Student Budget</th>\n",
       "      <th>Average Math Score</th>\n",
       "      <th>Average Reading Score</th>\n",
       "      <th>% Passing Math</th>\n",
       "      <th>% Passing Reading</th>\n",
       "      <th>% Overall Passing Rate</th>\n",
       "      <th>School Size</th>\n",
       "      <th>size</th>\n",
       "    </tr>\n",
       "  </thead>\n",
       "  <tbody>\n",
       "    <tr>\n",
       "      <th>Huang High School</th>\n",
       "      <td>District</td>\n",
       "      <td>2917</td>\n",
       "      <td>1910635</td>\n",
       "      <td>655.0</td>\n",
       "      <td>76.629414</td>\n",
       "      <td>81.182722</td>\n",
       "      <td>65.683922</td>\n",
       "      <td>81.316421</td>\n",
       "      <td>73.500171</td>\n",
       "      <td>0</td>\n",
       "      <td>2917.0</td>\n",
       "    </tr>\n",
       "    <tr>\n",
       "      <th>Figueroa High School</th>\n",
       "      <td>District</td>\n",
       "      <td>2949</td>\n",
       "      <td>1884411</td>\n",
       "      <td>639.0</td>\n",
       "      <td>76.711767</td>\n",
       "      <td>81.158020</td>\n",
       "      <td>65.988471</td>\n",
       "      <td>80.739234</td>\n",
       "      <td>73.363852</td>\n",
       "      <td>0</td>\n",
       "      <td>2949.0</td>\n",
       "    </tr>\n",
       "    <tr>\n",
       "      <th>Shelton High School</th>\n",
       "      <td>Charter</td>\n",
       "      <td>1761</td>\n",
       "      <td>1056600</td>\n",
       "      <td>600.0</td>\n",
       "      <td>83.359455</td>\n",
       "      <td>83.725724</td>\n",
       "      <td>93.867121</td>\n",
       "      <td>95.854628</td>\n",
       "      <td>94.860875</td>\n",
       "      <td>0</td>\n",
       "      <td>1761.0</td>\n",
       "    </tr>\n",
       "    <tr>\n",
       "      <th>Hernandez High School</th>\n",
       "      <td>District</td>\n",
       "      <td>4635</td>\n",
       "      <td>3022020</td>\n",
       "      <td>652.0</td>\n",
       "      <td>77.289752</td>\n",
       "      <td>80.934412</td>\n",
       "      <td>66.752967</td>\n",
       "      <td>80.862999</td>\n",
       "      <td>73.807983</td>\n",
       "      <td>0</td>\n",
       "      <td>4635.0</td>\n",
       "    </tr>\n",
       "    <tr>\n",
       "      <th>Griffin High School</th>\n",
       "      <td>Charter</td>\n",
       "      <td>1468</td>\n",
       "      <td>917500</td>\n",
       "      <td>625.0</td>\n",
       "      <td>83.351499</td>\n",
       "      <td>83.816757</td>\n",
       "      <td>93.392371</td>\n",
       "      <td>97.138965</td>\n",
       "      <td>95.265668</td>\n",
       "      <td>0</td>\n",
       "      <td>1468.0</td>\n",
       "    </tr>\n",
       "  </tbody>\n",
       "</table>\n",
       "</div>"
      ],
      "text/plain": [
       "                      School Type  Total Students  Total School Budget  \\\n",
       "Huang High School        District            2917              1910635   \n",
       "Figueroa High School     District            2949              1884411   \n",
       "Shelton High School       Charter            1761              1056600   \n",
       "Hernandez High School    District            4635              3022020   \n",
       "Griffin High School       Charter            1468               917500   \n",
       "\n",
       "                       Per Student Budget  Average Math Score  \\\n",
       "Huang High School                   655.0           76.629414   \n",
       "Figueroa High School                639.0           76.711767   \n",
       "Shelton High School                 600.0           83.359455   \n",
       "Hernandez High School               652.0           77.289752   \n",
       "Griffin High School                 625.0           83.351499   \n",
       "\n",
       "                       Average Reading Score  % Passing Math  \\\n",
       "Huang High School                  81.182722       65.683922   \n",
       "Figueroa High School               81.158020       65.988471   \n",
       "Shelton High School                83.725724       93.867121   \n",
       "Hernandez High School              80.934412       66.752967   \n",
       "Griffin High School                83.816757       93.392371   \n",
       "\n",
       "                       % Passing Reading  % Overall Passing Rate  School Size  \\\n",
       "Huang High School              81.316421               73.500171            0   \n",
       "Figueroa High School           80.739234               73.363852            0   \n",
       "Shelton High School            95.854628               94.860875            0   \n",
       "Hernandez High School          80.862999               73.807983            0   \n",
       "Griffin High School            97.138965               95.265668            0   \n",
       "\n",
       "                         size  \n",
       "Huang High School      2917.0  \n",
       "Figueroa High School   2949.0  \n",
       "Shelton High School    1761.0  \n",
       "Hernandez High School  4635.0  \n",
       "Griffin High School    1468.0  "
      ]
     },
     "execution_count": 13,
     "metadata": {},
     "output_type": "execute_result"
    }
   ],
   "source": [
    "# Add school size and school district to overview_df\n",
    "overview_df2 = pd.DataFrame.copy(overview_df)\n",
    "overview_df2['School Size'] = 0\n",
    "\n",
    "# Loop through each school and add key metrics to the overview_table list\n",
    "for i in range(0, num_schools):\n",
    "    \n",
    "    # School Name    \n",
    "    school = school_list[i]\n",
    "\n",
    "    # Get Subset of Data\n",
    "    subset = school_data_complete[school_data_complete['school_name'] == school]\n",
    "    \n",
    "    # School Size\n",
    "    school_size = subset['size'].iloc[0]\n",
    "    \n",
    "    # Add to overview_df\n",
    "    overview_df2.loc[school, 'size'] = school_size\n",
    "    \n",
    "overview_df2.head()"
   ]
  },
  {
   "cell_type": "code",
   "execution_count": 14,
   "metadata": {
    "nbpresent": {
     "id": "bd584a38-3827-4793-9ddf-cf0b09f9440d"
    }
   },
   "outputs": [
    {
     "data": {
      "text/html": [
       "<div>\n",
       "<style scoped>\n",
       "    .dataframe tbody tr th:only-of-type {\n",
       "        vertical-align: middle;\n",
       "    }\n",
       "\n",
       "    .dataframe tbody tr th {\n",
       "        vertical-align: top;\n",
       "    }\n",
       "\n",
       "    .dataframe thead th {\n",
       "        text-align: right;\n",
       "    }\n",
       "</style>\n",
       "<table border=\"1\" class=\"dataframe\">\n",
       "  <thead>\n",
       "    <tr style=\"text-align: right;\">\n",
       "      <th></th>\n",
       "      <th>Average Math Score</th>\n",
       "      <th>Average Reading Score</th>\n",
       "      <th>% Passing Math</th>\n",
       "      <th>% Passing Reading</th>\n",
       "      <th>% Overall Passing Rate</th>\n",
       "    </tr>\n",
       "    <tr>\n",
       "      <th>School Size</th>\n",
       "      <th></th>\n",
       "      <th></th>\n",
       "      <th></th>\n",
       "      <th></th>\n",
       "      <th></th>\n",
       "    </tr>\n",
       "  </thead>\n",
       "  <tbody>\n",
       "    <tr>\n",
       "      <th>Small (&lt;1000)</th>\n",
       "      <td>83.821598</td>\n",
       "      <td>83.929843</td>\n",
       "      <td>93.550225</td>\n",
       "      <td>96.099437</td>\n",
       "      <td>94.824831</td>\n",
       "    </tr>\n",
       "    <tr>\n",
       "      <th>Medium (1000-2000)</th>\n",
       "      <td>83.374684</td>\n",
       "      <td>83.864438</td>\n",
       "      <td>93.599695</td>\n",
       "      <td>96.790680</td>\n",
       "      <td>95.195187</td>\n",
       "    </tr>\n",
       "    <tr>\n",
       "      <th>Large (2000-5000)</th>\n",
       "      <td>77.746417</td>\n",
       "      <td>81.344493</td>\n",
       "      <td>69.963361</td>\n",
       "      <td>82.766634</td>\n",
       "      <td>76.364998</td>\n",
       "    </tr>\n",
       "  </tbody>\n",
       "</table>\n",
       "</div>"
      ],
      "text/plain": [
       "                    Average Math Score  Average Reading Score  % Passing Math  \\\n",
       "School Size                                                                     \n",
       "Small (<1000)                83.821598              83.929843       93.550225   \n",
       "Medium (1000-2000)           83.374684              83.864438       93.599695   \n",
       "Large (2000-5000)            77.746417              81.344493       69.963361   \n",
       "\n",
       "                    % Passing Reading  % Overall Passing Rate  \n",
       "School Size                                                    \n",
       "Small (<1000)               96.099437               94.824831  \n",
       "Medium (1000-2000)          96.790680               95.195187  \n",
       "Large (2000-5000)           82.766634               76.364998  "
      ]
     },
     "execution_count": 14,
     "metadata": {},
     "output_type": "execute_result"
    }
   ],
   "source": [
    "# Copy relevant columns from school_data_complete\n",
    "scores_by_size = overview_df2.drop(columns= ['School Type', 'Total Students', 'Total School Budget', 'Per Student Budget'])\n",
    "\n",
    "# Bin the school size\n",
    "scores_by_size['School Size'] = pd.cut(scores_by_size['size'], bins=size_bins, labels=group_names)\n",
    "\n",
    "# Drop the 'size' column\n",
    "binned_scores_by_size = scores_by_size.drop(columns = ['size'])\n",
    "\n",
    "# Groupby Bins column\n",
    "binned_scores_by_size = binned_scores_by_size.groupby('School Size').mean()\n",
    "\n",
    "binned_scores_by_size.head()"
   ]
  },
  {
   "cell_type": "markdown",
   "metadata": {
    "nbpresent": {
     "id": "cdcfa699-3aaa-4f12-abb6-95e890377b57"
    }
   },
   "source": [
    "## Scores by School Type"
   ]
  },
  {
   "cell_type": "markdown",
   "metadata": {
    "nbpresent": {
     "id": "a9a67444-3751-45d2-8745-1a6ea5864fee"
    }
   },
   "source": [
    "* Perform the same operations as above, based on school type."
   ]
  },
  {
   "cell_type": "code",
   "execution_count": 15,
   "metadata": {
    "nbpresent": {
     "id": "620eb4bc-b38e-4c0e-87bd-c4f1d758d158"
    }
   },
   "outputs": [
    {
     "data": {
      "text/html": [
       "<div>\n",
       "<style scoped>\n",
       "    .dataframe tbody tr th:only-of-type {\n",
       "        vertical-align: middle;\n",
       "    }\n",
       "\n",
       "    .dataframe tbody tr th {\n",
       "        vertical-align: top;\n",
       "    }\n",
       "\n",
       "    .dataframe thead th {\n",
       "        text-align: right;\n",
       "    }\n",
       "</style>\n",
       "<table border=\"1\" class=\"dataframe\">\n",
       "  <thead>\n",
       "    <tr style=\"text-align: right;\">\n",
       "      <th></th>\n",
       "      <th>Average Math Score</th>\n",
       "      <th>Average Reading Score</th>\n",
       "      <th>% Passing Math</th>\n",
       "      <th>% Passing Reading</th>\n",
       "      <th>% Overall Passing Rate</th>\n",
       "    </tr>\n",
       "    <tr>\n",
       "      <th>School Type</th>\n",
       "      <th></th>\n",
       "      <th></th>\n",
       "      <th></th>\n",
       "      <th></th>\n",
       "      <th></th>\n",
       "    </tr>\n",
       "  </thead>\n",
       "  <tbody>\n",
       "    <tr>\n",
       "      <th>Charter</th>\n",
       "      <td>83.473852</td>\n",
       "      <td>83.896421</td>\n",
       "      <td>93.620830</td>\n",
       "      <td>96.586489</td>\n",
       "      <td>95.103660</td>\n",
       "    </tr>\n",
       "    <tr>\n",
       "      <th>District</th>\n",
       "      <td>76.956733</td>\n",
       "      <td>80.966636</td>\n",
       "      <td>66.548453</td>\n",
       "      <td>80.799062</td>\n",
       "      <td>73.673757</td>\n",
       "    </tr>\n",
       "  </tbody>\n",
       "</table>\n",
       "</div>"
      ],
      "text/plain": [
       "             Average Math Score  Average Reading Score  % Passing Math  \\\n",
       "School Type                                                              \n",
       "Charter               83.473852              83.896421       93.620830   \n",
       "District              76.956733              80.966636       66.548453   \n",
       "\n",
       "             % Passing Reading  % Overall Passing Rate  \n",
       "School Type                                             \n",
       "Charter              96.586489               95.103660  \n",
       "District             80.799062               73.673757  "
      ]
     },
     "execution_count": 15,
     "metadata": {},
     "output_type": "execute_result"
    }
   ],
   "source": [
    "# Copy relevant columns from school_data_complete\n",
    "scores_by_type = overview_df.drop(columns= ['Total Students', 'Total School Budget', 'Per Student Budget'])\n",
    "\n",
    "# Groupby Bins column\n",
    "binned_scores_by_type = scores_by_type.groupby('School Type').mean()\n",
    "\n",
    "binned_scores_by_type.head()"
   ]
  }
 ],
 "metadata": {
  "anaconda-cloud": {},
  "kernel_info": {
   "name": "python3"
  },
  "kernelspec": {
   "display_name": "Python [default]",
   "language": "python",
   "name": "python3"
  },
  "language_info": {
   "codemirror_mode": {
    "name": "ipython",
    "version": 3
   },
   "file_extension": ".py",
   "mimetype": "text/x-python",
   "name": "python",
   "nbconvert_exporter": "python",
   "pygments_lexer": "ipython3",
   "version": "3.6.6"
  },
  "nbpresent": {
   "slides": {
    "00d65824-f98e-45ed-a1ac-1b6c14e4b94a": {
     "id": "00d65824-f98e-45ed-a1ac-1b6c14e4b94a",
     "prev": "50bb7d15-2192-4639-9133-e2081fa49c49",
     "regions": {
      "7780246c-2cdb-4178-afc6-a595901e9016": {
       "attrs": {
        "height": 0.8,
        "width": 0.8,
        "x": 0.1,
        "y": 0.1
       },
       "content": {
        "cell": "9ea04e80-eb34-484a-894f-f1b54c20a4ce",
        "part": "whole"
       },
       "id": "7780246c-2cdb-4178-afc6-a595901e9016"
      }
     }
    },
    "0bab3dd6-f2ff-41c1-bfef-88bec7eb65eb": {
     "id": "0bab3dd6-f2ff-41c1-bfef-88bec7eb65eb",
     "prev": "a6b8ea94-45ee-4460-93fa-b6e227eb882c",
     "regions": {
      "4d55da00-1703-413b-8dd2-1678a9d6bb29": {
       "attrs": {
        "height": 0.8,
        "width": 0.8,
        "x": 0.1,
        "y": 0.1
       },
       "content": {
        "cell": "98286549-0050-4064-9c3b-bef1481d8f5c",
        "part": "whole"
       },
       "id": "4d55da00-1703-413b-8dd2-1678a9d6bb29"
      }
     }
    },
    "0e8d4d3a-20b6-42db-88c9-9d412c05924f": {
     "id": "0e8d4d3a-20b6-42db-88c9-9d412c05924f",
     "prev": "2328c7b6-e6c3-4820-b7b6-6e001d66fc32",
     "regions": {
      "d43f301c-c1ee-4433-892d-90a4bfc029bf": {
       "attrs": {
        "height": 0.8,
        "width": 0.8,
        "x": 0.1,
        "y": 0.1
       },
       "content": {
        "cell": "efb84615-e13e-40a5-87a6-af25f95ee780",
        "part": "whole"
       },
       "id": "d43f301c-c1ee-4433-892d-90a4bfc029bf"
      }
     }
    },
    "0fcbb541-c243-4219-b3c9-b6dd4025002d": {
     "id": "0fcbb541-c243-4219-b3c9-b6dd4025002d",
     "prev": "746871f1-d536-408a-a60f-602a21bdb531",
     "regions": {
      "847c59a4-595f-4438-8b49-26556abbdaec": {
       "attrs": {
        "height": 0.8,
        "width": 0.8,
        "x": 0.1,
        "y": 0.1
       },
       "content": {
        "cell": "848276ef-6816-49d0-b0cf-43d288fb8f3e",
        "part": "whole"
       },
       "id": "847c59a4-595f-4438-8b49-26556abbdaec"
      }
     }
    },
    "12e4a022-43b8-4b65-aed2-f696fc72d9f3": {
     "id": "12e4a022-43b8-4b65-aed2-f696fc72d9f3",
     "prev": "f8294a8e-ca10-4a29-b001-4fb670b64efc",
     "regions": {
      "e65a886b-a6d5-4a20-b535-6faff558f24e": {
       "attrs": {
        "height": 0.8,
        "width": 0.8,
        "x": 0.1,
        "y": 0.1
       },
       "content": {
        "cell": "5b438327-24c6-490a-b2a0-b8a93faaf4a7",
        "part": "whole"
       },
       "id": "e65a886b-a6d5-4a20-b535-6faff558f24e"
      }
     }
    },
    "12ee98f5-4feb-484b-84f0-79ad9f06f74e": {
     "id": "12ee98f5-4feb-484b-84f0-79ad9f06f74e",
     "prev": "7699f892-66e8-4e6b-bf1b-323bc9dce2fa",
     "regions": {
      "2f7e2e11-e13a-4c20-b8a5-48f425318576": {
       "attrs": {
        "height": 0.8,
        "width": 0.8,
        "x": 0.1,
        "y": 0.1
       },
       "content": {
        "cell": "62e579ae-32f7-4f81-b427-e98843cd91c3",
        "part": "whole"
       },
       "id": "2f7e2e11-e13a-4c20-b8a5-48f425318576"
      }
     }
    },
    "177d29a3-a424-4dba-aa79-5ed98b857f20": {
     "id": "177d29a3-a424-4dba-aa79-5ed98b857f20",
     "prev": "e94b8ecc-6d7e-495c-9065-298194ed3124",
     "regions": {
      "8f93ec77-b787-4b7c-a693-15a1d00d2e9a": {
       "attrs": {
        "height": 0.8,
        "width": 0.8,
        "x": 0.1,
        "y": 0.1
       },
       "content": {
        "cell": "875cabb6-7ba1-4279-9e1a-fd88629e88af",
        "part": "whole"
       },
       "id": "8f93ec77-b787-4b7c-a693-15a1d00d2e9a"
      }
     }
    },
    "1b8a07ae-5933-45db-afc8-88b75a843773": {
     "id": "1b8a07ae-5933-45db-afc8-88b75a843773",
     "prev": "6057a414-96ae-4e11-9ab8-94f36d37444b",
     "regions": {
      "be09e35f-9e06-43fc-8440-c51ef6675e7c": {
       "attrs": {
        "height": 0.8,
        "width": 0.8,
        "x": 0.1,
        "y": 0.1
       },
       "content": {
        "cell": "cdcfa699-3aaa-4f12-abb6-95e890377b57",
        "part": "whole"
       },
       "id": "be09e35f-9e06-43fc-8440-c51ef6675e7c"
      }
     }
    },
    "1bd6386b-695c-4c05-a6e1-8aa1737b1fbf": {
     "id": "1bd6386b-695c-4c05-a6e1-8aa1737b1fbf",
     "prev": "b463263e-2c62-4c1d-95af-268cec7b2dec",
     "regions": {
      "cdde57d3-1639-487a-a21a-136428fe6750": {
       "attrs": {
        "height": 0.8,
        "width": 0.8,
        "x": 0.1,
        "y": 0.1
       },
       "content": {
        "cell": "0ecd407f-c9ac-47cf-88c5-82cf2dc42a8e",
        "part": "whole"
       },
       "id": "cdde57d3-1639-487a-a21a-136428fe6750"
      }
     }
    },
    "1be2ab4d-82e7-4aa7-bab7-676bceb9ba9d": {
     "id": "1be2ab4d-82e7-4aa7-bab7-676bceb9ba9d",
     "prev": "8c703fb8-9b72-4acb-85ad-ce3cef140016",
     "regions": {
      "a9369606-dba8-4539-abea-a0f708b9ebf3": {
       "attrs": {
        "height": 0.8,
        "width": 0.8,
        "x": 0.1,
        "y": 0.1
       },
       "content": {
        "cell": "666fe225-3d7c-4c4d-9425-fbd19b33ddb2",
        "part": "whole"
       },
       "id": "a9369606-dba8-4539-abea-a0f708b9ebf3"
      }
     }
    },
    "1bfa1a80-f318-4e97-b41b-1686249bf751": {
     "id": "1bfa1a80-f318-4e97-b41b-1686249bf751",
     "prev": "e837284a-2ebc-4eb9-aa91-e0a89afd6864",
     "regions": {
      "c9633c7e-6001-4549-b1ed-079b30b17331": {
       "attrs": {
        "height": 0.8,
        "width": 0.8,
        "x": 0.1,
        "y": 0.1
       },
       "content": {
        "cell": "5ca50af5-466e-474d-b989-54390021c487",
        "part": "whole"
       },
       "id": "c9633c7e-6001-4549-b1ed-079b30b17331"
      }
     }
    },
    "1e4fd04c-4c15-4a77-b954-73e2d8175f4f": {
     "id": "1e4fd04c-4c15-4a77-b954-73e2d8175f4f",
     "prev": "f4baea73-1635-4a69-9077-98fa90560192",
     "regions": {
      "708a4c2f-e49d-4a03-a832-47512f10250b": {
       "attrs": {
        "height": 0.8,
        "width": 0.8,
        "x": 0.1,
        "y": 0.1
       },
       "content": {
        "cell": "4f106627-4680-4ebb-a4f3-46986ae0c157",
        "part": "whole"
       },
       "id": "708a4c2f-e49d-4a03-a832-47512f10250b"
      }
     }
    },
    "2328c7b6-e6c3-4820-b7b6-6e001d66fc32": {
     "id": "2328c7b6-e6c3-4820-b7b6-6e001d66fc32",
     "prev": "2ad97811-deee-4a32-99dc-508b45362ee9",
     "regions": {
      "7f76b392-13fd-4665-bdbf-ef5e080eef71": {
       "attrs": {
        "height": 0.8,
        "width": 0.8,
        "x": 0.1,
        "y": 0.1
       },
       "content": {
        "cell": "0ecd407f-c9ac-47cf-88c5-82cf2dc42a8e",
        "part": "whole"
       },
       "id": "7f76b392-13fd-4665-bdbf-ef5e080eef71"
      }
     }
    },
    "2565bc1e-4194-46ee-82bb-4a8f92e73de7": {
     "id": "2565bc1e-4194-46ee-82bb-4a8f92e73de7",
     "prev": "d5727284-1e4e-4216-b03a-5d58942b1430",
     "regions": {
      "8b472eb3-887a-4ed8-96ca-bf6995a822a3": {
       "attrs": {
        "height": 0.8,
        "width": 0.8,
        "x": 0.1,
        "y": 0.1
       },
       "content": {
        "cell": "511d0c95-e4f2-47da-ad24-69405102cd0c",
        "part": "whole"
       },
       "id": "8b472eb3-887a-4ed8-96ca-bf6995a822a3"
      }
     }
    },
    "2ad97811-deee-4a32-99dc-508b45362ee9": {
     "id": "2ad97811-deee-4a32-99dc-508b45362ee9",
     "prev": "9ece8047-8be9-4e14-ba93-bcfdc7f26319",
     "regions": {
      "3dd85b6c-73a9-4f85-a22c-af734454908d": {
       "attrs": {
        "height": 0.8,
        "width": 0.8,
        "x": 0.1,
        "y": 0.1
       },
       "content": {
        "cell": "c0707bfb-acf1-40ac-879e-df3ab006dcf6",
        "part": "whole"
       },
       "id": "3dd85b6c-73a9-4f85-a22c-af734454908d"
      }
     }
    },
    "2cceff2e-d0d8-4084-a391-918bf9c42637": {
     "id": "2cceff2e-d0d8-4084-a391-918bf9c42637",
     "prev": "e371c674-30b6-44f1-96df-2e958b7a0b5f",
     "regions": {
      "1f117f8b-21ac-49b5-86f1-1bfb803d7013": {
       "attrs": {
        "height": 0.8,
        "width": 0.8,
        "x": 0.1,
        "y": 0.1
       },
       "content": {
        "cell": "db077ef9-fdf8-45cb-8491-6c2d1717f453",
        "part": "whole"
       },
       "id": "1f117f8b-21ac-49b5-86f1-1bfb803d7013"
      }
     }
    },
    "2eb373c8-c957-4005-96de-1fcac72da2f4": {
     "id": "2eb373c8-c957-4005-96de-1fcac72da2f4",
     "prev": "87e80431-5aba-4eef-80dd-fdd8b9fa418e",
     "regions": {
      "73891438-8f97-471c-a3b4-a14f0eaf7753": {
       "attrs": {
        "height": 0.8,
        "width": 0.8,
        "x": 0.1,
        "y": 0.1
       },
       "content": {
        "cell": "5b438327-24c6-490a-b2a0-b8a93faaf4a7",
        "part": "whole"
       },
       "id": "73891438-8f97-471c-a3b4-a14f0eaf7753"
      }
     }
    },
    "34d73ab5-7578-4f35-97ab-3c43861438a3": {
     "id": "34d73ab5-7578-4f35-97ab-3c43861438a3",
     "prev": "1b8a07ae-5933-45db-afc8-88b75a843773",
     "regions": {
      "0396b28f-aacd-4dd9-9fbd-53a707869776": {
       "attrs": {
        "height": 0.8,
        "width": 0.8,
        "x": 0.1,
        "y": 0.1
       },
       "content": {
        "cell": "a9a67444-3751-45d2-8745-1a6ea5864fee",
        "part": "whole"
       },
       "id": "0396b28f-aacd-4dd9-9fbd-53a707869776"
      }
     }
    },
    "355aa44d-de2b-4866-82a3-75878a543e9f": {
     "id": "355aa44d-de2b-4866-82a3-75878a543e9f",
     "prev": "a580f2eb-cade-404e-97d1-2419e69e0a94",
     "regions": {
      "715fb9e3-a2bd-4c87-b44e-f7db737d6c4f": {
       "attrs": {
        "height": 0.8,
        "width": 0.8,
        "x": 0.1,
        "y": 0.1
       },
       "content": {
        "cell": "73d1b2a8-f2f6-47aa-8926-2bb9b928cd72",
        "part": "whole"
       },
       "id": "715fb9e3-a2bd-4c87-b44e-f7db737d6c4f"
      }
     }
    },
    "37f78605-bcb4-4410-a38f-472b4f1bc070": {
     "id": "37f78605-bcb4-4410-a38f-472b4f1bc070",
     "prev": "946514c2-a9bf-4d2a-a5e3-ff879521460e",
     "regions": {
      "c92f6c94-972c-4b5a-9325-7d51e2389b23": {
       "attrs": {
        "height": 0.8,
        "width": 0.8,
        "x": 0.1,
        "y": 0.1
       },
       "content": {
        "cell": "f3870eb2-904f-45bc-8e6f-449847219ea5",
        "part": "whole"
       },
       "id": "c92f6c94-972c-4b5a-9325-7d51e2389b23"
      }
     }
    },
    "39b196fb-9779-427e-8e8a-a25ee899b2e2": {
     "id": "39b196fb-9779-427e-8e8a-a25ee899b2e2",
     "prev": "0fcbb541-c243-4219-b3c9-b6dd4025002d",
     "regions": {
      "2bf66d9d-86d0-42a3-8c46-70f78bff3d65": {
       "attrs": {
        "height": 0.8,
        "width": 0.8,
        "x": 0.1,
        "y": 0.1
       },
       "content": {
        "cell": "98286549-0050-4064-9c3b-bef1481d8f5c",
        "part": "whole"
       },
       "id": "2bf66d9d-86d0-42a3-8c46-70f78bff3d65"
      }
     }
    },
    "4097e66c-2543-4ae7-9bc2-556beb557d2f": {
     "id": "4097e66c-2543-4ae7-9bc2-556beb557d2f",
     "prev": "00d65824-f98e-45ed-a1ac-1b6c14e4b94a",
     "regions": {
      "0d6a938a-b394-4884-a860-b3f21c99d4df": {
       "attrs": {
        "height": 0.8,
        "width": 0.8,
        "x": 0.1,
        "y": 0.1
       },
       "content": {
        "cell": "10cd7714-575e-49b1-93fb-826270681d29",
        "part": "whole"
       },
       "id": "0d6a938a-b394-4884-a860-b3f21c99d4df"
      }
     }
    },
    "50bb7d15-2192-4639-9133-e2081fa49c49": {
     "id": "50bb7d15-2192-4639-9133-e2081fa49c49",
     "prev": "871ad849-3d4b-4f90-abe0-efe44aa4e341",
     "regions": {
      "a9f9c96a-12c8-4c74-8fa4-041f5718b870": {
       "attrs": {
        "height": 0.8,
        "width": 0.8,
        "x": 0.1,
        "y": 0.1
       },
       "content": {
        "cell": "4f106627-4680-4ebb-a4f3-46986ae0c157",
        "part": "whole"
       },
       "id": "a9f9c96a-12c8-4c74-8fa4-041f5718b870"
      }
     }
    },
    "57e7a216-a4bb-4312-bb76-396b5bd37b85": {
     "id": "57e7a216-a4bb-4312-bb76-396b5bd37b85",
     "prev": "2eb373c8-c957-4005-96de-1fcac72da2f4",
     "regions": {
      "d7542629-d44e-47d2-940f-1f04f9394426": {
       "attrs": {
        "height": 0.8,
        "width": 0.8,
        "x": 0.1,
        "y": 0.1
       },
       "content": {
        "cell": "c3d5cebe-8ea4-493b-bd3b-4d24601cc339",
        "part": "whole"
       },
       "id": "d7542629-d44e-47d2-940f-1f04f9394426"
      }
     }
    },
    "593506d5-ccac-4f0a-82c7-dc444011ba01": {
     "id": "593506d5-ccac-4f0a-82c7-dc444011ba01",
     "prev": "57e7a216-a4bb-4312-bb76-396b5bd37b85",
     "regions": {
      "1fa4984f-fa14-48a4-8469-cd7bcedee2c0": {
       "attrs": {
        "height": 0.8,
        "width": 0.8,
        "x": 0.1,
        "y": 0.1
       },
       "content": {
        "cell": "511d0c95-e4f2-47da-ad24-69405102cd0c",
        "part": "whole"
       },
       "id": "1fa4984f-fa14-48a4-8469-cd7bcedee2c0"
      }
     }
    },
    "6057a414-96ae-4e11-9ab8-94f36d37444b": {
     "id": "6057a414-96ae-4e11-9ab8-94f36d37444b",
     "prev": "2565bc1e-4194-46ee-82bb-4a8f92e73de7",
     "regions": {
      "73e63380-b2fe-4558-925f-631c8291ba78": {
       "attrs": {
        "height": 0.8,
        "width": 0.8,
        "x": 0.1,
        "y": 0.1
       },
       "content": {
        "cell": "bd584a38-3827-4793-9ddf-cf0b09f9440d",
        "part": "whole"
       },
       "id": "73e63380-b2fe-4558-925f-631c8291ba78"
      }
     }
    },
    "6877f2e7-7c08-40fd-83e2-83205a959afb": {
     "id": "6877f2e7-7c08-40fd-83e2-83205a959afb",
     "prev": "2cceff2e-d0d8-4084-a391-918bf9c42637",
     "regions": {
      "a7296970-a1ff-41eb-a605-291964b2f801": {
       "attrs": {
        "height": 0.8,
        "width": 0.8,
        "x": 0.1,
        "y": 0.1
       },
       "content": {
        "cell": "62e579ae-32f7-4f81-b427-e98843cd91c3",
        "part": "whole"
       },
       "id": "a7296970-a1ff-41eb-a605-291964b2f801"
      }
     }
    },
    "6b714a4f-d807-45c8-8177-e09efe046465": {
     "id": "6b714a4f-d807-45c8-8177-e09efe046465",
     "prev": "abd2fcdb-aeed-4230-9cc4-22d125bfdcd2",
     "regions": {
      "34f11eea-edbb-433f-9718-68d04e96acd6": {
       "attrs": {
        "height": 0.8,
        "width": 0.8,
        "x": 0.1,
        "y": 0.1
       },
       "content": {
        "cell": "d79ca1f1-be78-41fc-a249-e26d7396bad8",
        "part": "whole"
       },
       "id": "34f11eea-edbb-433f-9718-68d04e96acd6"
      }
     }
    },
    "6fcad32b-011c-4949-a35c-616ddcea11b7": {
     "id": "6fcad32b-011c-4949-a35c-616ddcea11b7",
     "prev": "85d7eee7-d3b9-4fce-80be-ef2c928fa042",
     "regions": {
      "39a9df06-e3bb-4830-b63e-81d436383f5b": {
       "attrs": {
        "height": 0.8,
        "width": 0.8,
        "x": 0.1,
        "y": 0.1
       },
       "content": {
        "cell": "10cd7714-575e-49b1-93fb-826270681d29",
        "part": "whole"
       },
       "id": "39a9df06-e3bb-4830-b63e-81d436383f5b"
      }
     }
    },
    "746871f1-d536-408a-a60f-602a21bdb531": {
     "id": "746871f1-d536-408a-a60f-602a21bdb531",
     "prev": "cc9d6500-c83d-4116-a084-d927626efa1f",
     "regions": {
      "b9e7beb7-52e2-433c-8bce-48a8f55a6d5a": {
       "attrs": {
        "height": 0.8,
        "width": 0.8,
        "x": 0.1,
        "y": 0.1
       },
       "content": {
        "cell": "a590a293-976e-40bb-abd7-3af1367494c1",
        "part": "whole"
       },
       "id": "b9e7beb7-52e2-433c-8bce-48a8f55a6d5a"
      }
     }
    },
    "7699f892-66e8-4e6b-bf1b-323bc9dce2fa": {
     "id": "7699f892-66e8-4e6b-bf1b-323bc9dce2fa",
     "prev": "a50215ad-7a39-4fff-bc1a-4fd6c0e51d92",
     "regions": {
      "4755a93a-e7b3-4be4-9245-014cdbe08d33": {
       "attrs": {
        "height": 0.8,
        "width": 0.8,
        "x": 0.1,
        "y": 0.1
       },
       "content": {
        "cell": "db077ef9-fdf8-45cb-8491-6c2d1717f453",
        "part": "whole"
       },
       "id": "4755a93a-e7b3-4be4-9245-014cdbe08d33"
      }
     }
    },
    "76e7b856-a375-40ec-b625-6fad839ac11b": {
     "id": "76e7b856-a375-40ec-b625-6fad839ac11b",
     "prev": "9b795692-68e2-4283-a868-f525f6e22c57",
     "regions": {
      "34bcfc4c-5830-495d-bd6a-a48a5c2309f3": {
       "attrs": {
        "height": 0.8,
        "width": 0.8,
        "x": 0.1,
        "y": 0.1
       },
       "content": {
        "cell": "a590a293-976e-40bb-abd7-3af1367494c1",
        "part": "whole"
       },
       "id": "34bcfc4c-5830-495d-bd6a-a48a5c2309f3"
      }
     }
    },
    "85d7eee7-d3b9-4fce-80be-ef2c928fa042": {
     "id": "85d7eee7-d3b9-4fce-80be-ef2c928fa042",
     "prev": "1e4fd04c-4c15-4a77-b954-73e2d8175f4f",
     "regions": {
      "7eaf400d-60bc-4048-9bd6-52d45c17a7e0": {
       "attrs": {
        "height": 0.8,
        "width": 0.8,
        "x": 0.1,
        "y": 0.1
       },
       "content": {
        "cell": "9ea04e80-eb34-484a-894f-f1b54c20a4ce",
        "part": "whole"
       },
       "id": "7eaf400d-60bc-4048-9bd6-52d45c17a7e0"
      }
     }
    },
    "871ad849-3d4b-4f90-abe0-efe44aa4e341": {
     "id": "871ad849-3d4b-4f90-abe0-efe44aa4e341",
     "prev": null,
     "regions": {
      "b2325423-7161-4923-bc9d-2ef7556f2659": {
       "attrs": {
        "height": 0.8,
        "width": 0.8,
        "x": 0.1,
        "y": 0.1
       },
       "content": {
        "cell": "5f7fa68e-8932-432f-9ebb-e2a2a60feb27",
        "part": "whole"
       },
       "id": "b2325423-7161-4923-bc9d-2ef7556f2659"
      }
     }
    },
    "87e80431-5aba-4eef-80dd-fdd8b9fa418e": {
     "id": "87e80431-5aba-4eef-80dd-fdd8b9fa418e",
     "prev": "12ee98f5-4feb-484b-84f0-79ad9f06f74e",
     "regions": {
      "47fbefb9-9a10-480d-9c86-ed41675f7ec1": {
       "attrs": {
        "height": 0.8,
        "width": 0.8,
        "x": 0.1,
        "y": 0.1
       },
       "content": {
        "cell": "174fb95d-cc43-4d6b-81d7-79b1d20e15eb",
        "part": "whole"
       },
       "id": "47fbefb9-9a10-480d-9c86-ed41675f7ec1"
      }
     }
    },
    "8b6c8883-6cc5-4d05-8c96-7c7c45d81a16": {
     "id": "8b6c8883-6cc5-4d05-8c96-7c7c45d81a16",
     "prev": "593506d5-ccac-4f0a-82c7-dc444011ba01",
     "regions": {
      "31822124-a80d-4d47-8000-6d4b4a402e7f": {
       "attrs": {
        "height": 0.8,
        "width": 0.8,
        "x": 0.1,
        "y": 0.1
       },
       "content": {
        "cell": "bd584a38-3827-4793-9ddf-cf0b09f9440d",
        "part": "whole"
       },
       "id": "31822124-a80d-4d47-8000-6d4b4a402e7f"
      }
     }
    },
    "8c703fb8-9b72-4acb-85ad-ce3cef140016": {
     "id": "8c703fb8-9b72-4acb-85ad-ce3cef140016",
     "prev": "6b714a4f-d807-45c8-8177-e09efe046465",
     "regions": {
      "9e03f580-4b8d-4ec0-a2c8-d002b2297d3f": {
       "attrs": {
        "height": 0.8,
        "width": 0.8,
        "x": 0.1,
        "y": 0.1
       },
       "content": {
        "cell": "5ca50af5-466e-474d-b989-54390021c487",
        "part": "whole"
       },
       "id": "9e03f580-4b8d-4ec0-a2c8-d002b2297d3f"
      }
     }
    },
    "9000ecac-77ba-49b4-9454-7e41c443348c": {
     "id": "9000ecac-77ba-49b4-9454-7e41c443348c",
     "prev": "0bab3dd6-f2ff-41c1-bfef-88bec7eb65eb",
     "regions": {
      "3558b2a7-4e56-44dc-bd51-154983699b27": {
       "attrs": {
        "height": 0.8,
        "width": 0.8,
        "x": 0.1,
        "y": 0.1
       },
       "content": {
        "cell": "d83aa849-3021-480a-b4e1-92afbd4c1aa4",
        "part": "whole"
       },
       "id": "3558b2a7-4e56-44dc-bd51-154983699b27"
      }
     }
    },
    "922a3498-4914-4388-9136-4ba8ab96a6e5": {
     "id": "922a3498-4914-4388-9136-4ba8ab96a6e5",
     "prev": "177d29a3-a424-4dba-aa79-5ed98b857f20",
     "regions": {
      "f5c2752b-cad8-4ca9-aa1c-6b88eb1d722f": {
       "attrs": {
        "height": 0.8,
        "width": 0.8,
        "x": 0.1,
        "y": 0.1
       },
       "content": {
        "cell": "03fce153-0153-4981-835d-e647542d2646",
        "part": "whole"
       },
       "id": "f5c2752b-cad8-4ca9-aa1c-6b88eb1d722f"
      }
     }
    },
    "946514c2-a9bf-4d2a-a5e3-ff879521460e": {
     "id": "946514c2-a9bf-4d2a-a5e3-ff879521460e",
     "prev": "6fcad32b-011c-4949-a35c-616ddcea11b7",
     "regions": {
      "448c810d-b32d-4453-ac81-e4d90a7a1278": {
       "attrs": {
        "height": 0.8,
        "width": 0.8,
        "x": 0.1,
        "y": 0.1
       },
       "content": {
        "cell": "f655550d-86ef-4a64-b9ba-4134a42fa47f",
        "part": "whole"
       },
       "id": "448c810d-b32d-4453-ac81-e4d90a7a1278"
      }
     }
    },
    "9b735492-e6e3-4364-8d55-0d38b2874634": {
     "id": "9b735492-e6e3-4364-8d55-0d38b2874634",
     "prev": "9000ecac-77ba-49b4-9454-7e41c443348c",
     "regions": {
      "d18817a8-ce54-4f09-af9c-e7dfed9d0981": {
       "attrs": {
        "height": 0.8,
        "width": 0.8,
        "x": 0.1,
        "y": 0.1
       },
       "content": {
        "cell": "875cabb6-7ba1-4279-9e1a-fd88629e88af",
        "part": "whole"
       },
       "id": "d18817a8-ce54-4f09-af9c-e7dfed9d0981"
      }
     }
    },
    "9b795692-68e2-4283-a868-f525f6e22c57": {
     "id": "9b795692-68e2-4283-a868-f525f6e22c57",
     "prev": "c2ace2d6-6e59-4327-ada7-1cb1a9454bd1",
     "regions": {
      "afed7cce-8f8f-4397-bfef-d1442752ab84": {
       "attrs": {
        "height": 0.8,
        "width": 0.8,
        "x": 0.1,
        "y": 0.1
       },
       "content": {
        "cell": "afa5f070-878e-4d74-9380-c4526abc4b2e",
        "part": "whole"
       },
       "id": "afed7cce-8f8f-4397-bfef-d1442752ab84"
      }
     }
    },
    "9ece8047-8be9-4e14-ba93-bcfdc7f26319": {
     "id": "9ece8047-8be9-4e14-ba93-bcfdc7f26319",
     "prev": "d6ea4372-1cc2-40cd-9dd4-98908ce31047",
     "regions": {
      "b329ec57-6b25-4b2d-8084-7b95b284f2e3": {
       "attrs": {
        "height": 0.8,
        "width": 0.8,
        "x": 0.1,
        "y": 0.1
       },
       "content": {
        "cell": "f3870eb2-904f-45bc-8e6f-449847219ea5",
        "part": "whole"
       },
       "id": "b329ec57-6b25-4b2d-8084-7b95b284f2e3"
      }
     }
    },
    "a50215ad-7a39-4fff-bc1a-4fd6c0e51d92": {
     "id": "a50215ad-7a39-4fff-bc1a-4fd6c0e51d92",
     "prev": "c8f7ffab-52c8-40d0-b8ba-fbb10d7bc163",
     "regions": {
      "d95a82e1-ad3d-469f-b32b-65eb5b4699a6": {
       "attrs": {
        "height": 0.8,
        "width": 0.8,
        "x": 0.1,
        "y": 0.1
       },
       "content": {
        "cell": "dbff9598-8d93-473d-90f8-b701841960e7",
        "part": "whole"
       },
       "id": "d95a82e1-ad3d-469f-b32b-65eb5b4699a6"
      }
     }
    },
    "a580f2eb-cade-404e-97d1-2419e69e0a94": {
     "id": "a580f2eb-cade-404e-97d1-2419e69e0a94",
     "prev": "0e8d4d3a-20b6-42db-88c9-9d412c05924f",
     "regions": {
      "d5727e61-447f-4359-8877-63287faf9af7": {
       "attrs": {
        "height": 0.8,
        "width": 0.8,
        "x": 0.1,
        "y": 0.1
       },
       "content": {
        "cell": "962bb6f7-3264-4d51-b036-8a364c289c82",
        "part": "whole"
       },
       "id": "d5727e61-447f-4359-8877-63287faf9af7"
      }
     }
    },
    "a6b8ea94-45ee-4460-93fa-b6e227eb882c": {
     "id": "a6b8ea94-45ee-4460-93fa-b6e227eb882c",
     "prev": "76e7b856-a375-40ec-b625-6fad839ac11b",
     "regions": {
      "e8eb8afa-226f-4195-88b7-199bcd6b6b9f": {
       "attrs": {
        "height": 0.8,
        "width": 0.8,
        "x": 0.1,
        "y": 0.1
       },
       "content": {
        "cell": "848276ef-6816-49d0-b0cf-43d288fb8f3e",
        "part": "whole"
       },
       "id": "e8eb8afa-226f-4195-88b7-199bcd6b6b9f"
      }
     }
    },
    "abd2fcdb-aeed-4230-9cc4-22d125bfdcd2": {
     "id": "abd2fcdb-aeed-4230-9cc4-22d125bfdcd2",
     "prev": "dc9685a9-e2dd-42f3-953e-5799a84d0f7a",
     "regions": {
      "2cb81942-d842-4e55-bc07-d9c9266fefd6": {
       "attrs": {
        "height": 0.8,
        "width": 0.8,
        "x": 0.1,
        "y": 0.1
       },
       "content": {
        "cell": "73d1b2a8-f2f6-47aa-8926-2bb9b928cd72",
        "part": "whole"
       },
       "id": "2cb81942-d842-4e55-bc07-d9c9266fefd6"
      }
     }
    },
    "b463263e-2c62-4c1d-95af-268cec7b2dec": {
     "id": "b463263e-2c62-4c1d-95af-268cec7b2dec",
     "prev": "37f78605-bcb4-4410-a38f-472b4f1bc070",
     "regions": {
      "0658e369-c4a1-4ef8-94aa-d00fadc249ec": {
       "attrs": {
        "height": 0.8,
        "width": 0.8,
        "x": 0.1,
        "y": 0.1
       },
       "content": {
        "cell": "c0707bfb-acf1-40ac-879e-df3ab006dcf6",
        "part": "whole"
       },
       "id": "0658e369-c4a1-4ef8-94aa-d00fadc249ec"
      }
     }
    },
    "c2ace2d6-6e59-4327-ada7-1cb1a9454bd1": {
     "id": "c2ace2d6-6e59-4327-ada7-1cb1a9454bd1",
     "prev": "1bfa1a80-f318-4e97-b41b-1686249bf751",
     "regions": {
      "a6f4842c-7925-4c62-8751-768156a5b629": {
       "attrs": {
        "height": 0.8,
        "width": 0.8,
        "x": 0.1,
        "y": 0.1
       },
       "content": {
        "cell": "666fe225-3d7c-4c4d-9425-fbd19b33ddb2",
        "part": "whole"
       },
       "id": "a6f4842c-7925-4c62-8751-768156a5b629"
      }
     }
    },
    "c4a71c8e-3539-4a86-97da-4c62b17d81d1": {
     "id": "c4a71c8e-3539-4a86-97da-4c62b17d81d1",
     "prev": "8b6c8883-6cc5-4d05-8c96-7c7c45d81a16",
     "regions": {
      "6e58d9f7-73f6-4153-9314-134fad981670": {
       "attrs": {
        "height": 0.8,
        "width": 0.8,
        "x": 0.1,
        "y": 0.1
       },
       "content": {
        "cell": "cdcfa699-3aaa-4f12-abb6-95e890377b57",
        "part": "whole"
       },
       "id": "6e58d9f7-73f6-4153-9314-134fad981670"
      }
     }
    },
    "c8f7ffab-52c8-40d0-b8ba-fbb10d7bc163": {
     "id": "c8f7ffab-52c8-40d0-b8ba-fbb10d7bc163",
     "prev": "9b735492-e6e3-4364-8d55-0d38b2874634",
     "regions": {
      "a3a52e58-7ded-4b00-bc8e-4795ceb9e9a5": {
       "attrs": {
        "height": 0.8,
        "width": 0.8,
        "x": 0.1,
        "y": 0.1
       },
       "content": {
        "cell": "03fce153-0153-4981-835d-e647542d2646",
        "part": "whole"
       },
       "id": "a3a52e58-7ded-4b00-bc8e-4795ceb9e9a5"
      }
     }
    },
    "cc9d6500-c83d-4116-a084-d927626efa1f": {
     "id": "cc9d6500-c83d-4116-a084-d927626efa1f",
     "prev": "1be2ab4d-82e7-4aa7-bab7-676bceb9ba9d",
     "regions": {
      "dde965cc-7d6b-418d-9510-2dc64f6d0e2a": {
       "attrs": {
        "height": 0.8,
        "width": 0.8,
        "x": 0.1,
        "y": 0.1
       },
       "content": {
        "cell": "afa5f070-878e-4d74-9380-c4526abc4b2e",
        "part": "whole"
       },
       "id": "dde965cc-7d6b-418d-9510-2dc64f6d0e2a"
      }
     }
    },
    "d5727284-1e4e-4216-b03a-5d58942b1430": {
     "id": "d5727284-1e4e-4216-b03a-5d58942b1430",
     "prev": "12e4a022-43b8-4b65-aed2-f696fc72d9f3",
     "regions": {
      "e31cc92b-fbd0-440a-84eb-b776ad1bbee0": {
       "attrs": {
        "height": 0.8,
        "width": 0.8,
        "x": 0.1,
        "y": 0.1
       },
       "content": {
        "cell": "c3d5cebe-8ea4-493b-bd3b-4d24601cc339",
        "part": "whole"
       },
       "id": "e31cc92b-fbd0-440a-84eb-b776ad1bbee0"
      }
     }
    },
    "d6ea4372-1cc2-40cd-9dd4-98908ce31047": {
     "id": "d6ea4372-1cc2-40cd-9dd4-98908ce31047",
     "prev": "4097e66c-2543-4ae7-9bc2-556beb557d2f",
     "regions": {
      "93ff09aa-01c1-4fc7-a48c-cf89ba6edb46": {
       "attrs": {
        "height": 0.8,
        "width": 0.8,
        "x": 0.1,
        "y": 0.1
       },
       "content": {
        "cell": "f655550d-86ef-4a64-b9ba-4134a42fa47f",
        "part": "whole"
       },
       "id": "93ff09aa-01c1-4fc7-a48c-cf89ba6edb46"
      }
     }
    },
    "dc9685a9-e2dd-42f3-953e-5799a84d0f7a": {
     "id": "dc9685a9-e2dd-42f3-953e-5799a84d0f7a",
     "prev": "df1258ab-99ef-47bb-b713-3e984d9f17ef",
     "regions": {
      "11831a65-23f7-4491-af20-b5d0b0a92f85": {
       "attrs": {
        "height": 0.8,
        "width": 0.8,
        "x": 0.1,
        "y": 0.1
       },
       "content": {
        "cell": "962bb6f7-3264-4d51-b036-8a364c289c82",
        "part": "whole"
       },
       "id": "11831a65-23f7-4491-af20-b5d0b0a92f85"
      }
     }
    },
    "df1258ab-99ef-47bb-b713-3e984d9f17ef": {
     "id": "df1258ab-99ef-47bb-b713-3e984d9f17ef",
     "prev": "1bd6386b-695c-4c05-a6e1-8aa1737b1fbf",
     "regions": {
      "50a05586-faac-4e5e-8d89-5e71e13ded18": {
       "attrs": {
        "height": 0.8,
        "width": 0.8,
        "x": 0.1,
        "y": 0.1
       },
       "content": {
        "cell": "efb84615-e13e-40a5-87a6-af25f95ee780",
        "part": "whole"
       },
       "id": "50a05586-faac-4e5e-8d89-5e71e13ded18"
      }
     }
    },
    "e29dbf5e-6a5f-4335-88ba-f42157591170": {
     "id": "e29dbf5e-6a5f-4335-88ba-f42157591170",
     "prev": "34d73ab5-7578-4f35-97ab-3c43861438a3",
     "regions": {
      "bc993c6d-1c21-44db-a337-a8635069df69": {
       "attrs": {
        "height": 0.8,
        "width": 0.8,
        "x": 0.1,
        "y": 0.1
       },
       "content": {
        "cell": "620eb4bc-b38e-4c0e-87bd-c4f1d758d158",
        "part": "whole"
       },
       "id": "bc993c6d-1c21-44db-a337-a8635069df69"
      }
     }
    },
    "e371c674-30b6-44f1-96df-2e958b7a0b5f": {
     "id": "e371c674-30b6-44f1-96df-2e958b7a0b5f",
     "prev": "922a3498-4914-4388-9136-4ba8ab96a6e5",
     "regions": {
      "6a3584e9-965a-4293-a496-3c0a47190f92": {
       "attrs": {
        "height": 0.8,
        "width": 0.8,
        "x": 0.1,
        "y": 0.1
       },
       "content": {
        "cell": "dbff9598-8d93-473d-90f8-b701841960e7",
        "part": "whole"
       },
       "id": "6a3584e9-965a-4293-a496-3c0a47190f92"
      }
     }
    },
    "e584c761-b4c6-41cd-8efd-38efa21f74a2": {
     "id": "e584c761-b4c6-41cd-8efd-38efa21f74a2",
     "prev": "c4a71c8e-3539-4a86-97da-4c62b17d81d1",
     "regions": {
      "c1b45e15-cfbe-434d-bd79-c4beca2ea5cb": {
       "attrs": {
        "height": 0.8,
        "width": 0.8,
        "x": 0.1,
        "y": 0.1
       },
       "content": {
        "cell": "a9a67444-3751-45d2-8745-1a6ea5864fee",
        "part": "whole"
       },
       "id": "c1b45e15-cfbe-434d-bd79-c4beca2ea5cb"
      }
     }
    },
    "e77ffacd-f6f3-4aa3-9c2f-abcd17d1f9a2": {
     "id": "e77ffacd-f6f3-4aa3-9c2f-abcd17d1f9a2",
     "prev": "e584c761-b4c6-41cd-8efd-38efa21f74a2",
     "regions": {
      "d8eb6f55-c613-420c-8e3a-313e2b804047": {
       "attrs": {
        "height": 0.8,
        "width": 0.8,
        "x": 0.1,
        "y": 0.1
       },
       "content": {
        "cell": "620eb4bc-b38e-4c0e-87bd-c4f1d758d158",
        "part": "whole"
       },
       "id": "d8eb6f55-c613-420c-8e3a-313e2b804047"
      }
     }
    },
    "e837284a-2ebc-4eb9-aa91-e0a89afd6864": {
     "id": "e837284a-2ebc-4eb9-aa91-e0a89afd6864",
     "prev": "355aa44d-de2b-4866-82a3-75878a543e9f",
     "regions": {
      "3c603e41-affb-43c9-9e1b-1c484a924482": {
       "attrs": {
        "height": 0.8,
        "width": 0.8,
        "x": 0.1,
        "y": 0.1
       },
       "content": {
        "cell": "d79ca1f1-be78-41fc-a249-e26d7396bad8",
        "part": "whole"
       },
       "id": "3c603e41-affb-43c9-9e1b-1c484a924482"
      }
     }
    },
    "e94b8ecc-6d7e-495c-9065-298194ed3124": {
     "id": "e94b8ecc-6d7e-495c-9065-298194ed3124",
     "prev": "39b196fb-9779-427e-8e8a-a25ee899b2e2",
     "regions": {
      "fada56f7-ed3d-4702-a7c8-ca14b2dc39b8": {
       "attrs": {
        "height": 0.8,
        "width": 0.8,
        "x": 0.1,
        "y": 0.1
       },
       "content": {
        "cell": "d83aa849-3021-480a-b4e1-92afbd4c1aa4",
        "part": "whole"
       },
       "id": "fada56f7-ed3d-4702-a7c8-ca14b2dc39b8"
      }
     }
    },
    "f4baea73-1635-4a69-9077-98fa90560192": {
     "id": "f4baea73-1635-4a69-9077-98fa90560192",
     "prev": null,
     "regions": {
      "0326d9e3-ffeb-460f-a3fa-56b65b4849e2": {
       "attrs": {
        "height": 0.8,
        "width": 0.8,
        "x": 0.1,
        "y": 0.1
       },
       "content": {
        "cell": "5f7fa68e-8932-432f-9ebb-e2a2a60feb27",
        "part": "whole"
       },
       "id": "0326d9e3-ffeb-460f-a3fa-56b65b4849e2"
      }
     }
    },
    "f8294a8e-ca10-4a29-b001-4fb670b64efc": {
     "id": "f8294a8e-ca10-4a29-b001-4fb670b64efc",
     "prev": "6877f2e7-7c08-40fd-83e2-83205a959afb",
     "regions": {
      "ce90e6fa-c2e7-44d2-99ce-e8bd9bbab41a": {
       "attrs": {
        "height": 0.8,
        "width": 0.8,
        "x": 0.1,
        "y": 0.1
       },
       "content": {
        "cell": "174fb95d-cc43-4d6b-81d7-79b1d20e15eb",
        "part": "whole"
       },
       "id": "ce90e6fa-c2e7-44d2-99ce-e8bd9bbab41a"
      }
     }
    }
   },
   "themes": {}
  },
  "nteract": {
   "version": "0.8.4"
  }
 },
 "nbformat": 4,
 "nbformat_minor": 1
}
